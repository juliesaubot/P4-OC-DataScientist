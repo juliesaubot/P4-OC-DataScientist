{
 "cells": [
  {
   "cell_type": "markdown",
   "id": "d0fc64f1",
   "metadata": {},
   "source": [
    "# Prédiction de la consommation totale d’énergie"
   ]
  },
  {
   "cell_type": "markdown",
   "id": "0dcb013a",
   "metadata": {},
   "source": [
    "### Variable à prédire :'SiteEnergyUseWN(kBtu)'\n",
    "\n",
    "**Definition** : The annual amount of energy consumed by the property from all sources of energy.\n",
    "\n",
    "\n",
    "- 'SiteEUIWN(kBtu/sf)' \n",
    "consommation normalisée au pied carré (sf : square feet), donc ramenée à la surface du bâtiment, correspond à une intensité de consommation\n",
    "\n",
    "**Definition** : Weather Normalized (WN) Site Energy Use Intensity (EUI) is a property's WN Site Energy divided by its gross floor area (in square feet). WN Site Energy is the Site Energy Use the property would have consumed during 30-year average weather conditions. WN Site EUI is measured in measured in thousands of British thermal units (kBtu) per square foot."
   ]
  },
  {
   "cell_type": "code",
   "execution_count": 1,
   "id": "0a7f97cb",
   "metadata": {},
   "outputs": [],
   "source": [
    "#on importe les bibliothèques dont on va se servir\n",
    "import warnings\n",
    "warnings.filterwarnings('ignore')\n",
    "import numpy as np\n",
    "import pandas as pd\n",
    "pd.set_option('display.max_columns', None)\n",
    "pd.set_option('display.max_rows', None)\n",
    "import matplotlib.pyplot as plt\n",
    "import seaborn as sns\n",
    "from sklearn.metrics import mean_squared_error, r2_score,mean_squared_log_error\n",
    "from sklearn import model_selection\n",
    "from sklearn.preprocessing import StandardScaler\n",
    "from sklearn.preprocessing import RobustScaler\n",
    "from sklearn.metrics import mean_squared_error\n",
    "from sklearn.dummy import DummyRegressor\n",
    "from sklearn.linear_model import RidgeCV\n",
    "from sklearn.ensemble import RandomForestRegressor\n",
    "from sklearn.ensemble import GradientBoostingRegressor"
   ]
  },
  {
   "cell_type": "code",
   "execution_count": 2,
   "id": "f47e26f7",
   "metadata": {},
   "outputs": [],
   "source": [
    "#Fonctions dont on va se servir\n",
    "\n",
    "'''Fonction qui retourne un tableau contenant le nom de la variable, le nombre de valeur manquante ainsi que le \n",
    "pourcentage de valeurs manquantes associé '''\n",
    "\n",
    "def missingValues(df):\n",
    "    df_null = pd.DataFrame({'Count' : df.isnull().sum(), 'Percentage': round(100*df.isnull().sum()/len(df),2)})\n",
    "    df_null_pos = df_null[df_null['Count'] > 0 ]\n",
    "    df_null_sorted = df_null_pos.sort_values(by=['Percentage'], ascending = False)\n",
    "    df_null_sorted = pd.DataFrame(df_null_sorted)\n",
    "    df_null_sorted.reset_index(inplace = True)\n",
    "    df_null_sorted.rename(columns={'index':'Variable Name'}, inplace=True)\n",
    "    return df_null_sorted\n",
    "\n",
    "'''Cette fonction permet de supprimer les variables avec un pourcentage de valeur manquante supérieur à la limite'''\n",
    "def dropColumns(df, limit):\n",
    "    tab = missingValues(df)\n",
    "    columns_to_keep = list()\n",
    "\n",
    "    for row in tab.iterrows():        \n",
    "        if float(row[1]['Percentage']) < float(limit):\n",
    "            columns_to_keep.append(row[1]['Variable Name'])\n",
    "            \n",
    "    data = df[columns_to_keep]\n",
    "    return data\n",
    "\n",
    "def add_results(regressor, nom_modèle, cas, results):\n",
    "    results = results.append(pd.DataFrame({'Modèle' : [nom_modèle],\n",
    "                                       'Cas': cas,\n",
    "                                       'Score_RMSE_test' : [np.sqrt(mean_squared_error(regressor.predict(X_test_std), y_test))],\n",
    "                                       'Score_RMSE_train' : [np.sqrt(mean_squared_error(regressor.predict(X_train_std), y_train))],\n",
    "                                     'Score_r2_test': [regressor.score(X_test_std,y_test)],\n",
    "                                      'Score_r2_train': [regressor.score(X_train_std,y_train)],\n",
    "                                      }),ignore_index=True)\n",
    "    return results "
   ]
  },
  {
   "cell_type": "markdown",
   "id": "b7c195c5",
   "metadata": {},
   "source": [
    "#### On importe le dataframe nettoyé"
   ]
  },
  {
   "cell_type": "code",
   "execution_count": 3,
   "id": "fb3fc257",
   "metadata": {},
   "outputs": [
    {
     "data": {
      "text/html": [
       "<div>\n",
       "<style scoped>\n",
       "    .dataframe tbody tr th:only-of-type {\n",
       "        vertical-align: middle;\n",
       "    }\n",
       "\n",
       "    .dataframe tbody tr th {\n",
       "        vertical-align: top;\n",
       "    }\n",
       "\n",
       "    .dataframe thead th {\n",
       "        text-align: right;\n",
       "    }\n",
       "</style>\n",
       "<table border=\"1\" class=\"dataframe\">\n",
       "  <thead>\n",
       "    <tr style=\"text-align: right;\">\n",
       "      <th></th>\n",
       "      <th>Latitude</th>\n",
       "      <th>Longitude</th>\n",
       "      <th>YearBuilt</th>\n",
       "      <th>NumberofBuildings</th>\n",
       "      <th>NumberofFloors</th>\n",
       "      <th>PropertyGFATotal</th>\n",
       "      <th>PropertyGFAParking</th>\n",
       "      <th>PropertyGFABuilding(s)</th>\n",
       "      <th>ENERGYSTARScore</th>\n",
       "      <th>SiteEnergyUseWN(kBtu)</th>\n",
       "      <th>TotalGHGEmissions</th>\n",
       "      <th>PropertyUse_ratio_Education</th>\n",
       "      <th>PropertyUse_ratio_Factory</th>\n",
       "      <th>PropertyUse_ratio_Government services</th>\n",
       "      <th>PropertyUse_ratio_Health</th>\n",
       "      <th>PropertyUse_ratio_Hotel/Senior Care/Housing</th>\n",
       "      <th>PropertyUse_ratio_Leisure</th>\n",
       "      <th>PropertyUse_ratio_No Use</th>\n",
       "      <th>PropertyUse_ratio_Office</th>\n",
       "      <th>PropertyUse_ratio_Other</th>\n",
       "      <th>PropertyUse_ratio_Parking</th>\n",
       "      <th>PropertyUse_ratio_Retail</th>\n",
       "      <th>PropertyUse_ratio_Swimming Pool</th>\n",
       "      <th>PropertyUse_ratio_Technology/Science</th>\n",
       "      <th>Electricity_ratio</th>\n",
       "      <th>Steam_ratio</th>\n",
       "      <th>NaturalGas_ratio</th>\n",
       "      <th>BuildingType_Campus</th>\n",
       "      <th>BuildingType_NonResidential</th>\n",
       "      <th>BuildingType_Nonresidential COS</th>\n",
       "      <th>BuildingType_Nonresidential WA</th>\n",
       "      <th>BuildingType_SPS-District K-12</th>\n",
       "      <th>PrimaryPropertyType_Distribution Center</th>\n",
       "      <th>PrimaryPropertyType_Hospital</th>\n",
       "      <th>PrimaryPropertyType_Hotel</th>\n",
       "      <th>PrimaryPropertyType_K-12 School</th>\n",
       "      <th>PrimaryPropertyType_Laboratory</th>\n",
       "      <th>PrimaryPropertyType_Large Office</th>\n",
       "      <th>PrimaryPropertyType_Medical Office</th>\n",
       "      <th>PrimaryPropertyType_Mixed Use Property</th>\n",
       "      <th>PrimaryPropertyType_Other</th>\n",
       "      <th>PrimaryPropertyType_Refrigerated Warehouse</th>\n",
       "      <th>PrimaryPropertyType_Residence Hall</th>\n",
       "      <th>PrimaryPropertyType_Restaurant</th>\n",
       "      <th>PrimaryPropertyType_Retail Store</th>\n",
       "      <th>PrimaryPropertyType_Self-Storage Facility</th>\n",
       "      <th>PrimaryPropertyType_Senior Care Community</th>\n",
       "      <th>PrimaryPropertyType_Small- and Mid-Sized Office</th>\n",
       "      <th>PrimaryPropertyType_Supermarket / Grocery Store</th>\n",
       "      <th>PrimaryPropertyType_University</th>\n",
       "      <th>PrimaryPropertyType_Warehouse</th>\n",
       "      <th>PrimaryPropertyType_Worship Facility</th>\n",
       "      <th>Neighborhood_BALLARD</th>\n",
       "      <th>Neighborhood_Ballard</th>\n",
       "      <th>Neighborhood_CENTRAL</th>\n",
       "      <th>Neighborhood_Central</th>\n",
       "      <th>Neighborhood_DELRIDGE</th>\n",
       "      <th>Neighborhood_DOWNTOWN</th>\n",
       "      <th>Neighborhood_Delridge</th>\n",
       "      <th>Neighborhood_EAST</th>\n",
       "      <th>Neighborhood_GREATER DUWAMISH</th>\n",
       "      <th>Neighborhood_LAKE UNION</th>\n",
       "      <th>Neighborhood_MAGNOLIA / QUEEN ANNE</th>\n",
       "      <th>Neighborhood_NORTH</th>\n",
       "      <th>Neighborhood_NORTHEAST</th>\n",
       "      <th>Neighborhood_NORTHWEST</th>\n",
       "      <th>Neighborhood_North</th>\n",
       "      <th>Neighborhood_Northwest</th>\n",
       "      <th>Neighborhood_SOUTHEAST</th>\n",
       "      <th>Neighborhood_SOUTHWEST</th>\n",
       "      <th>NumberofBuildings_log</th>\n",
       "      <th>NumberofFloors_log</th>\n",
       "      <th>PropertyGFATotal_log</th>\n",
       "      <th>PropertyGFAParking_log</th>\n",
       "      <th>PropertyGFABuilding(s)_log</th>\n",
       "      <th>SiteEnergyUseWN(kBtu)_log</th>\n",
       "      <th>TotalGHGEmissions_log</th>\n",
       "    </tr>\n",
       "  </thead>\n",
       "  <tbody>\n",
       "    <tr>\n",
       "      <th>0</th>\n",
       "      <td>47.61220</td>\n",
       "      <td>-122.33799</td>\n",
       "      <td>1927</td>\n",
       "      <td>1.0</td>\n",
       "      <td>12</td>\n",
       "      <td>88434</td>\n",
       "      <td>0</td>\n",
       "      <td>88434</td>\n",
       "      <td>60.0</td>\n",
       "      <td>7456910.0</td>\n",
       "      <td>249.98</td>\n",
       "      <td>0.0</td>\n",
       "      <td>0.0</td>\n",
       "      <td>0.0</td>\n",
       "      <td>0.0</td>\n",
       "      <td>100.000000</td>\n",
       "      <td>0.000000</td>\n",
       "      <td>0</td>\n",
       "      <td>0.0</td>\n",
       "      <td>0.0</td>\n",
       "      <td>0.000000</td>\n",
       "      <td>0.0</td>\n",
       "      <td>0</td>\n",
       "      <td>0.0</td>\n",
       "      <td>0.546060</td>\n",
       "      <td>0.277302</td>\n",
       "      <td>0.176638</td>\n",
       "      <td>0</td>\n",
       "      <td>1</td>\n",
       "      <td>0</td>\n",
       "      <td>0</td>\n",
       "      <td>0</td>\n",
       "      <td>0</td>\n",
       "      <td>0</td>\n",
       "      <td>1</td>\n",
       "      <td>0</td>\n",
       "      <td>0</td>\n",
       "      <td>0</td>\n",
       "      <td>0</td>\n",
       "      <td>0</td>\n",
       "      <td>0</td>\n",
       "      <td>0</td>\n",
       "      <td>0</td>\n",
       "      <td>0</td>\n",
       "      <td>0</td>\n",
       "      <td>0</td>\n",
       "      <td>0</td>\n",
       "      <td>0</td>\n",
       "      <td>0</td>\n",
       "      <td>0</td>\n",
       "      <td>0</td>\n",
       "      <td>0</td>\n",
       "      <td>0</td>\n",
       "      <td>0</td>\n",
       "      <td>0</td>\n",
       "      <td>0</td>\n",
       "      <td>0</td>\n",
       "      <td>1</td>\n",
       "      <td>0</td>\n",
       "      <td>0</td>\n",
       "      <td>0</td>\n",
       "      <td>0</td>\n",
       "      <td>0</td>\n",
       "      <td>0</td>\n",
       "      <td>0</td>\n",
       "      <td>0</td>\n",
       "      <td>0</td>\n",
       "      <td>0</td>\n",
       "      <td>0</td>\n",
       "      <td>0</td>\n",
       "      <td>0.693147</td>\n",
       "      <td>2.564949</td>\n",
       "      <td>11.390023</td>\n",
       "      <td>0.000000</td>\n",
       "      <td>11.390023</td>\n",
       "      <td>15.824652</td>\n",
       "      <td>5.525373</td>\n",
       "    </tr>\n",
       "    <tr>\n",
       "      <th>1</th>\n",
       "      <td>47.61317</td>\n",
       "      <td>-122.33393</td>\n",
       "      <td>1996</td>\n",
       "      <td>1.0</td>\n",
       "      <td>11</td>\n",
       "      <td>103566</td>\n",
       "      <td>15064</td>\n",
       "      <td>88502</td>\n",
       "      <td>61.0</td>\n",
       "      <td>8664479.0</td>\n",
       "      <td>295.86</td>\n",
       "      <td>0.0</td>\n",
       "      <td>0.0</td>\n",
       "      <td>0.0</td>\n",
       "      <td>0.0</td>\n",
       "      <td>80.991831</td>\n",
       "      <td>4.462855</td>\n",
       "      <td>0</td>\n",
       "      <td>0.0</td>\n",
       "      <td>0.0</td>\n",
       "      <td>14.545314</td>\n",
       "      <td>0.0</td>\n",
       "      <td>0</td>\n",
       "      <td>0.0</td>\n",
       "      <td>0.386609</td>\n",
       "      <td>0.000000</td>\n",
       "      <td>0.613391</td>\n",
       "      <td>0</td>\n",
       "      <td>1</td>\n",
       "      <td>0</td>\n",
       "      <td>0</td>\n",
       "      <td>0</td>\n",
       "      <td>0</td>\n",
       "      <td>0</td>\n",
       "      <td>1</td>\n",
       "      <td>0</td>\n",
       "      <td>0</td>\n",
       "      <td>0</td>\n",
       "      <td>0</td>\n",
       "      <td>0</td>\n",
       "      <td>0</td>\n",
       "      <td>0</td>\n",
       "      <td>0</td>\n",
       "      <td>0</td>\n",
       "      <td>0</td>\n",
       "      <td>0</td>\n",
       "      <td>0</td>\n",
       "      <td>0</td>\n",
       "      <td>0</td>\n",
       "      <td>0</td>\n",
       "      <td>0</td>\n",
       "      <td>0</td>\n",
       "      <td>0</td>\n",
       "      <td>0</td>\n",
       "      <td>0</td>\n",
       "      <td>0</td>\n",
       "      <td>0</td>\n",
       "      <td>1</td>\n",
       "      <td>0</td>\n",
       "      <td>0</td>\n",
       "      <td>0</td>\n",
       "      <td>0</td>\n",
       "      <td>0</td>\n",
       "      <td>0</td>\n",
       "      <td>0</td>\n",
       "      <td>0</td>\n",
       "      <td>0</td>\n",
       "      <td>0</td>\n",
       "      <td>0</td>\n",
       "      <td>0</td>\n",
       "      <td>0.693147</td>\n",
       "      <td>2.484907</td>\n",
       "      <td>11.547974</td>\n",
       "      <td>9.620129</td>\n",
       "      <td>11.390792</td>\n",
       "      <td>15.974742</td>\n",
       "      <td>5.693261</td>\n",
       "    </tr>\n",
       "    <tr>\n",
       "      <th>2</th>\n",
       "      <td>47.61393</td>\n",
       "      <td>-122.33810</td>\n",
       "      <td>1969</td>\n",
       "      <td>1.0</td>\n",
       "      <td>41</td>\n",
       "      <td>956110</td>\n",
       "      <td>196718</td>\n",
       "      <td>759392</td>\n",
       "      <td>43.0</td>\n",
       "      <td>73937112.0</td>\n",
       "      <td>2089.28</td>\n",
       "      <td>0.0</td>\n",
       "      <td>0.0</td>\n",
       "      <td>0.0</td>\n",
       "      <td>0.0</td>\n",
       "      <td>100.000000</td>\n",
       "      <td>0.000000</td>\n",
       "      <td>0</td>\n",
       "      <td>0.0</td>\n",
       "      <td>0.0</td>\n",
       "      <td>0.000000</td>\n",
       "      <td>0.0</td>\n",
       "      <td>0</td>\n",
       "      <td>0.0</td>\n",
       "      <td>0.682307</td>\n",
       "      <td>0.297113</td>\n",
       "      <td>0.020579</td>\n",
       "      <td>0</td>\n",
       "      <td>1</td>\n",
       "      <td>0</td>\n",
       "      <td>0</td>\n",
       "      <td>0</td>\n",
       "      <td>0</td>\n",
       "      <td>0</td>\n",
       "      <td>1</td>\n",
       "      <td>0</td>\n",
       "      <td>0</td>\n",
       "      <td>0</td>\n",
       "      <td>0</td>\n",
       "      <td>0</td>\n",
       "      <td>0</td>\n",
       "      <td>0</td>\n",
       "      <td>0</td>\n",
       "      <td>0</td>\n",
       "      <td>0</td>\n",
       "      <td>0</td>\n",
       "      <td>0</td>\n",
       "      <td>0</td>\n",
       "      <td>0</td>\n",
       "      <td>0</td>\n",
       "      <td>0</td>\n",
       "      <td>0</td>\n",
       "      <td>0</td>\n",
       "      <td>0</td>\n",
       "      <td>0</td>\n",
       "      <td>0</td>\n",
       "      <td>0</td>\n",
       "      <td>1</td>\n",
       "      <td>0</td>\n",
       "      <td>0</td>\n",
       "      <td>0</td>\n",
       "      <td>0</td>\n",
       "      <td>0</td>\n",
       "      <td>0</td>\n",
       "      <td>0</td>\n",
       "      <td>0</td>\n",
       "      <td>0</td>\n",
       "      <td>0</td>\n",
       "      <td>0</td>\n",
       "      <td>0</td>\n",
       "      <td>0.693147</td>\n",
       "      <td>3.737670</td>\n",
       "      <td>13.770629</td>\n",
       "      <td>12.189532</td>\n",
       "      <td>13.540275</td>\n",
       "      <td>18.118725</td>\n",
       "      <td>7.645053</td>\n",
       "    </tr>\n",
       "    <tr>\n",
       "      <th>3</th>\n",
       "      <td>47.61412</td>\n",
       "      <td>-122.33664</td>\n",
       "      <td>1926</td>\n",
       "      <td>1.0</td>\n",
       "      <td>10</td>\n",
       "      <td>61320</td>\n",
       "      <td>0</td>\n",
       "      <td>61320</td>\n",
       "      <td>56.0</td>\n",
       "      <td>6946800.5</td>\n",
       "      <td>286.43</td>\n",
       "      <td>0.0</td>\n",
       "      <td>0.0</td>\n",
       "      <td>0.0</td>\n",
       "      <td>0.0</td>\n",
       "      <td>100.000000</td>\n",
       "      <td>0.000000</td>\n",
       "      <td>0</td>\n",
       "      <td>0.0</td>\n",
       "      <td>0.0</td>\n",
       "      <td>0.000000</td>\n",
       "      <td>0.0</td>\n",
       "      <td>0</td>\n",
       "      <td>0.0</td>\n",
       "      <td>0.407519</td>\n",
       "      <td>0.325913</td>\n",
       "      <td>0.266567</td>\n",
       "      <td>0</td>\n",
       "      <td>1</td>\n",
       "      <td>0</td>\n",
       "      <td>0</td>\n",
       "      <td>0</td>\n",
       "      <td>0</td>\n",
       "      <td>0</td>\n",
       "      <td>1</td>\n",
       "      <td>0</td>\n",
       "      <td>0</td>\n",
       "      <td>0</td>\n",
       "      <td>0</td>\n",
       "      <td>0</td>\n",
       "      <td>0</td>\n",
       "      <td>0</td>\n",
       "      <td>0</td>\n",
       "      <td>0</td>\n",
       "      <td>0</td>\n",
       "      <td>0</td>\n",
       "      <td>0</td>\n",
       "      <td>0</td>\n",
       "      <td>0</td>\n",
       "      <td>0</td>\n",
       "      <td>0</td>\n",
       "      <td>0</td>\n",
       "      <td>0</td>\n",
       "      <td>0</td>\n",
       "      <td>0</td>\n",
       "      <td>0</td>\n",
       "      <td>0</td>\n",
       "      <td>1</td>\n",
       "      <td>0</td>\n",
       "      <td>0</td>\n",
       "      <td>0</td>\n",
       "      <td>0</td>\n",
       "      <td>0</td>\n",
       "      <td>0</td>\n",
       "      <td>0</td>\n",
       "      <td>0</td>\n",
       "      <td>0</td>\n",
       "      <td>0</td>\n",
       "      <td>0</td>\n",
       "      <td>0</td>\n",
       "      <td>0.693147</td>\n",
       "      <td>2.397895</td>\n",
       "      <td>11.023878</td>\n",
       "      <td>0.000000</td>\n",
       "      <td>11.023878</td>\n",
       "      <td>15.753792</td>\n",
       "      <td>5.660979</td>\n",
       "    </tr>\n",
       "    <tr>\n",
       "      <th>4</th>\n",
       "      <td>47.61375</td>\n",
       "      <td>-122.34047</td>\n",
       "      <td>1980</td>\n",
       "      <td>1.0</td>\n",
       "      <td>18</td>\n",
       "      <td>175580</td>\n",
       "      <td>62000</td>\n",
       "      <td>113580</td>\n",
       "      <td>75.0</td>\n",
       "      <td>14656503.0</td>\n",
       "      <td>505.01</td>\n",
       "      <td>0.0</td>\n",
       "      <td>0.0</td>\n",
       "      <td>0.0</td>\n",
       "      <td>0.0</td>\n",
       "      <td>64.477629</td>\n",
       "      <td>0.000000</td>\n",
       "      <td>0</td>\n",
       "      <td>0.0</td>\n",
       "      <td>0.0</td>\n",
       "      <td>35.522371</td>\n",
       "      <td>0.0</td>\n",
       "      <td>0</td>\n",
       "      <td>0.0</td>\n",
       "      <td>0.378802</td>\n",
       "      <td>0.000000</td>\n",
       "      <td>0.621198</td>\n",
       "      <td>0</td>\n",
       "      <td>1</td>\n",
       "      <td>0</td>\n",
       "      <td>0</td>\n",
       "      <td>0</td>\n",
       "      <td>0</td>\n",
       "      <td>0</td>\n",
       "      <td>1</td>\n",
       "      <td>0</td>\n",
       "      <td>0</td>\n",
       "      <td>0</td>\n",
       "      <td>0</td>\n",
       "      <td>0</td>\n",
       "      <td>0</td>\n",
       "      <td>0</td>\n",
       "      <td>0</td>\n",
       "      <td>0</td>\n",
       "      <td>0</td>\n",
       "      <td>0</td>\n",
       "      <td>0</td>\n",
       "      <td>0</td>\n",
       "      <td>0</td>\n",
       "      <td>0</td>\n",
       "      <td>0</td>\n",
       "      <td>0</td>\n",
       "      <td>0</td>\n",
       "      <td>0</td>\n",
       "      <td>0</td>\n",
       "      <td>0</td>\n",
       "      <td>0</td>\n",
       "      <td>1</td>\n",
       "      <td>0</td>\n",
       "      <td>0</td>\n",
       "      <td>0</td>\n",
       "      <td>0</td>\n",
       "      <td>0</td>\n",
       "      <td>0</td>\n",
       "      <td>0</td>\n",
       "      <td>0</td>\n",
       "      <td>0</td>\n",
       "      <td>0</td>\n",
       "      <td>0</td>\n",
       "      <td>0</td>\n",
       "      <td>0.693147</td>\n",
       "      <td>2.944439</td>\n",
       "      <td>12.075856</td>\n",
       "      <td>11.034906</td>\n",
       "      <td>11.640272</td>\n",
       "      <td>16.500395</td>\n",
       "      <td>6.226556</td>\n",
       "    </tr>\n",
       "  </tbody>\n",
       "</table>\n",
       "</div>"
      ],
      "text/plain": [
       "   Latitude  Longitude  YearBuilt  NumberofBuildings  NumberofFloors  \\\n",
       "0  47.61220 -122.33799       1927                1.0              12   \n",
       "1  47.61317 -122.33393       1996                1.0              11   \n",
       "2  47.61393 -122.33810       1969                1.0              41   \n",
       "3  47.61412 -122.33664       1926                1.0              10   \n",
       "4  47.61375 -122.34047       1980                1.0              18   \n",
       "\n",
       "   PropertyGFATotal  PropertyGFAParking  PropertyGFABuilding(s)  \\\n",
       "0             88434                   0                   88434   \n",
       "1            103566               15064                   88502   \n",
       "2            956110              196718                  759392   \n",
       "3             61320                   0                   61320   \n",
       "4            175580               62000                  113580   \n",
       "\n",
       "   ENERGYSTARScore  SiteEnergyUseWN(kBtu)  TotalGHGEmissions  \\\n",
       "0             60.0              7456910.0             249.98   \n",
       "1             61.0              8664479.0             295.86   \n",
       "2             43.0             73937112.0            2089.28   \n",
       "3             56.0              6946800.5             286.43   \n",
       "4             75.0             14656503.0             505.01   \n",
       "\n",
       "   PropertyUse_ratio_Education  PropertyUse_ratio_Factory  \\\n",
       "0                          0.0                        0.0   \n",
       "1                          0.0                        0.0   \n",
       "2                          0.0                        0.0   \n",
       "3                          0.0                        0.0   \n",
       "4                          0.0                        0.0   \n",
       "\n",
       "   PropertyUse_ratio_Government services  PropertyUse_ratio_Health  \\\n",
       "0                                    0.0                       0.0   \n",
       "1                                    0.0                       0.0   \n",
       "2                                    0.0                       0.0   \n",
       "3                                    0.0                       0.0   \n",
       "4                                    0.0                       0.0   \n",
       "\n",
       "   PropertyUse_ratio_Hotel/Senior Care/Housing  PropertyUse_ratio_Leisure  \\\n",
       "0                                   100.000000                   0.000000   \n",
       "1                                    80.991831                   4.462855   \n",
       "2                                   100.000000                   0.000000   \n",
       "3                                   100.000000                   0.000000   \n",
       "4                                    64.477629                   0.000000   \n",
       "\n",
       "   PropertyUse_ratio_No Use  PropertyUse_ratio_Office  \\\n",
       "0                         0                       0.0   \n",
       "1                         0                       0.0   \n",
       "2                         0                       0.0   \n",
       "3                         0                       0.0   \n",
       "4                         0                       0.0   \n",
       "\n",
       "   PropertyUse_ratio_Other  PropertyUse_ratio_Parking  \\\n",
       "0                      0.0                   0.000000   \n",
       "1                      0.0                  14.545314   \n",
       "2                      0.0                   0.000000   \n",
       "3                      0.0                   0.000000   \n",
       "4                      0.0                  35.522371   \n",
       "\n",
       "   PropertyUse_ratio_Retail  PropertyUse_ratio_Swimming Pool  \\\n",
       "0                       0.0                                0   \n",
       "1                       0.0                                0   \n",
       "2                       0.0                                0   \n",
       "3                       0.0                                0   \n",
       "4                       0.0                                0   \n",
       "\n",
       "   PropertyUse_ratio_Technology/Science  Electricity_ratio  Steam_ratio  \\\n",
       "0                                   0.0           0.546060     0.277302   \n",
       "1                                   0.0           0.386609     0.000000   \n",
       "2                                   0.0           0.682307     0.297113   \n",
       "3                                   0.0           0.407519     0.325913   \n",
       "4                                   0.0           0.378802     0.000000   \n",
       "\n",
       "   NaturalGas_ratio  BuildingType_Campus  BuildingType_NonResidential  \\\n",
       "0          0.176638                    0                            1   \n",
       "1          0.613391                    0                            1   \n",
       "2          0.020579                    0                            1   \n",
       "3          0.266567                    0                            1   \n",
       "4          0.621198                    0                            1   \n",
       "\n",
       "   BuildingType_Nonresidential COS  BuildingType_Nonresidential WA  \\\n",
       "0                                0                               0   \n",
       "1                                0                               0   \n",
       "2                                0                               0   \n",
       "3                                0                               0   \n",
       "4                                0                               0   \n",
       "\n",
       "   BuildingType_SPS-District K-12  PrimaryPropertyType_Distribution Center  \\\n",
       "0                               0                                        0   \n",
       "1                               0                                        0   \n",
       "2                               0                                        0   \n",
       "3                               0                                        0   \n",
       "4                               0                                        0   \n",
       "\n",
       "   PrimaryPropertyType_Hospital  PrimaryPropertyType_Hotel  \\\n",
       "0                             0                          1   \n",
       "1                             0                          1   \n",
       "2                             0                          1   \n",
       "3                             0                          1   \n",
       "4                             0                          1   \n",
       "\n",
       "   PrimaryPropertyType_K-12 School  PrimaryPropertyType_Laboratory  \\\n",
       "0                                0                               0   \n",
       "1                                0                               0   \n",
       "2                                0                               0   \n",
       "3                                0                               0   \n",
       "4                                0                               0   \n",
       "\n",
       "   PrimaryPropertyType_Large Office  PrimaryPropertyType_Medical Office  \\\n",
       "0                                 0                                   0   \n",
       "1                                 0                                   0   \n",
       "2                                 0                                   0   \n",
       "3                                 0                                   0   \n",
       "4                                 0                                   0   \n",
       "\n",
       "   PrimaryPropertyType_Mixed Use Property  PrimaryPropertyType_Other  \\\n",
       "0                                       0                          0   \n",
       "1                                       0                          0   \n",
       "2                                       0                          0   \n",
       "3                                       0                          0   \n",
       "4                                       0                          0   \n",
       "\n",
       "   PrimaryPropertyType_Refrigerated Warehouse  \\\n",
       "0                                           0   \n",
       "1                                           0   \n",
       "2                                           0   \n",
       "3                                           0   \n",
       "4                                           0   \n",
       "\n",
       "   PrimaryPropertyType_Residence Hall  PrimaryPropertyType_Restaurant  \\\n",
       "0                                   0                               0   \n",
       "1                                   0                               0   \n",
       "2                                   0                               0   \n",
       "3                                   0                               0   \n",
       "4                                   0                               0   \n",
       "\n",
       "   PrimaryPropertyType_Retail Store  \\\n",
       "0                                 0   \n",
       "1                                 0   \n",
       "2                                 0   \n",
       "3                                 0   \n",
       "4                                 0   \n",
       "\n",
       "   PrimaryPropertyType_Self-Storage Facility  \\\n",
       "0                                          0   \n",
       "1                                          0   \n",
       "2                                          0   \n",
       "3                                          0   \n",
       "4                                          0   \n",
       "\n",
       "   PrimaryPropertyType_Senior Care Community  \\\n",
       "0                                          0   \n",
       "1                                          0   \n",
       "2                                          0   \n",
       "3                                          0   \n",
       "4                                          0   \n",
       "\n",
       "   PrimaryPropertyType_Small- and Mid-Sized Office  \\\n",
       "0                                                0   \n",
       "1                                                0   \n",
       "2                                                0   \n",
       "3                                                0   \n",
       "4                                                0   \n",
       "\n",
       "   PrimaryPropertyType_Supermarket / Grocery Store  \\\n",
       "0                                                0   \n",
       "1                                                0   \n",
       "2                                                0   \n",
       "3                                                0   \n",
       "4                                                0   \n",
       "\n",
       "   PrimaryPropertyType_University  PrimaryPropertyType_Warehouse  \\\n",
       "0                               0                              0   \n",
       "1                               0                              0   \n",
       "2                               0                              0   \n",
       "3                               0                              0   \n",
       "4                               0                              0   \n",
       "\n",
       "   PrimaryPropertyType_Worship Facility  Neighborhood_BALLARD  \\\n",
       "0                                     0                     0   \n",
       "1                                     0                     0   \n",
       "2                                     0                     0   \n",
       "3                                     0                     0   \n",
       "4                                     0                     0   \n",
       "\n",
       "   Neighborhood_Ballard  Neighborhood_CENTRAL  Neighborhood_Central  \\\n",
       "0                     0                     0                     0   \n",
       "1                     0                     0                     0   \n",
       "2                     0                     0                     0   \n",
       "3                     0                     0                     0   \n",
       "4                     0                     0                     0   \n",
       "\n",
       "   Neighborhood_DELRIDGE  Neighborhood_DOWNTOWN  Neighborhood_Delridge  \\\n",
       "0                      0                      1                      0   \n",
       "1                      0                      1                      0   \n",
       "2                      0                      1                      0   \n",
       "3                      0                      1                      0   \n",
       "4                      0                      1                      0   \n",
       "\n",
       "   Neighborhood_EAST  Neighborhood_GREATER DUWAMISH  Neighborhood_LAKE UNION  \\\n",
       "0                  0                              0                        0   \n",
       "1                  0                              0                        0   \n",
       "2                  0                              0                        0   \n",
       "3                  0                              0                        0   \n",
       "4                  0                              0                        0   \n",
       "\n",
       "   Neighborhood_MAGNOLIA / QUEEN ANNE  Neighborhood_NORTH  \\\n",
       "0                                   0                   0   \n",
       "1                                   0                   0   \n",
       "2                                   0                   0   \n",
       "3                                   0                   0   \n",
       "4                                   0                   0   \n",
       "\n",
       "   Neighborhood_NORTHEAST  Neighborhood_NORTHWEST  Neighborhood_North  \\\n",
       "0                       0                       0                   0   \n",
       "1                       0                       0                   0   \n",
       "2                       0                       0                   0   \n",
       "3                       0                       0                   0   \n",
       "4                       0                       0                   0   \n",
       "\n",
       "   Neighborhood_Northwest  Neighborhood_SOUTHEAST  Neighborhood_SOUTHWEST  \\\n",
       "0                       0                       0                       0   \n",
       "1                       0                       0                       0   \n",
       "2                       0                       0                       0   \n",
       "3                       0                       0                       0   \n",
       "4                       0                       0                       0   \n",
       "\n",
       "   NumberofBuildings_log  NumberofFloors_log  PropertyGFATotal_log  \\\n",
       "0               0.693147            2.564949             11.390023   \n",
       "1               0.693147            2.484907             11.547974   \n",
       "2               0.693147            3.737670             13.770629   \n",
       "3               0.693147            2.397895             11.023878   \n",
       "4               0.693147            2.944439             12.075856   \n",
       "\n",
       "   PropertyGFAParking_log  PropertyGFABuilding(s)_log  \\\n",
       "0                0.000000                   11.390023   \n",
       "1                9.620129                   11.390792   \n",
       "2               12.189532                   13.540275   \n",
       "3                0.000000                   11.023878   \n",
       "4               11.034906                   11.640272   \n",
       "\n",
       "   SiteEnergyUseWN(kBtu)_log  TotalGHGEmissions_log  \n",
       "0                  15.824652               5.525373  \n",
       "1                  15.974742               5.693261  \n",
       "2                  18.118725               7.645053  \n",
       "3                  15.753792               5.660979  \n",
       "4                  16.500395               6.226556  "
      ]
     },
     "execution_count": 3,
     "metadata": {},
     "output_type": "execute_result"
    }
   ],
   "source": [
    "df = pd.read_csv('df.csv', index_col = 0)\n",
    "df.head()"
   ]
  },
  {
   "cell_type": "markdown",
   "id": "797d55de",
   "metadata": {},
   "source": [
    "#### On sépare les différents types de colonnes"
   ]
  },
  {
   "cell_type": "code",
   "execution_count": 4,
   "id": "1b96e597",
   "metadata": {},
   "outputs": [],
   "source": [
    "df_columns = pd.DataFrame({'feature': df.columns})\n",
    "\n",
    "columns_PrimaryPropertyType = df_columns.loc[df_columns['feature'].str.startswith('PrimaryPropertyType_')]['feature'].tolist()\n",
    "columns_Neighborhood = df_columns.loc[df_columns['feature'].str.startswith('Neighborhood_')]['feature'].tolist()\n",
    "columns_PropertyUse_ratio = df_columns.loc[df_columns['feature'].str.startswith('PropertyUse_ratio_')]['feature'].tolist()\n",
    "columns_BuildingType = df_columns.loc[df_columns['feature'].str.startswith('BuildingType_')]['feature'].tolist()\n"
   ]
  },
  {
   "cell_type": "markdown",
   "id": "d58843a2",
   "metadata": {},
   "source": [
    "#### On crée un dataframe où on enregistrera les scores de chaque algorithme utilisé "
   ]
  },
  {
   "cell_type": "code",
   "execution_count": 5,
   "id": "4c4c49a7",
   "metadata": {},
   "outputs": [],
   "source": [
    "results = pd.DataFrame({})"
   ]
  },
  {
   "cell_type": "markdown",
   "id": "ca854138",
   "metadata": {},
   "source": [
    "## Premières prédictions : "
   ]
  },
  {
   "cell_type": "markdown",
   "id": "7921f403",
   "metadata": {},
   "source": [
    "#### On selectionne le dataframe pour les premières prédictions :\n",
    "On commence directement avec des variables et les algorithmes qui ont engendré un bon score pour les émissions du batiment "
   ]
  },
  {
   "cell_type": "code",
   "execution_count": 6,
   "id": "080568f1",
   "metadata": {},
   "outputs": [],
   "source": [
    "df_1er_essai = df.drop(['TotalGHGEmissions',\n",
    "                        'SiteEnergyUseWN(kBtu)_log',\n",
    "                        'TotalGHGEmissions_log',\n",
    "                        'ENERGYSTARScore',\n",
    "                        'Electricity_ratio',\n",
    "                        'Steam_ratio',\n",
    "                        'NaturalGas_ratio',\n",
    "                        'NumberofBuildings',\n",
    "                        'NumberofBuildings_log',\n",
    "                         'NumberofFloors',\n",
    "                        'NumberofFloors_log',\n",
    "                        'PropertyGFATotal_log',\n",
    "                        'PropertyGFAParking',\n",
    "                        'PropertyGFAParking_log',\n",
    "                        'PropertyGFABuilding(s)_log'\n",
    "                       ] \n",
    "                       + columns_PropertyUse_ratio \n",
    "                       #+ columns_BuildingType\n",
    "                       , axis=1)"
   ]
  },
  {
   "cell_type": "code",
   "execution_count": 7,
   "id": "f1d147e5",
   "metadata": {},
   "outputs": [
    {
     "data": {
      "text/plain": [
       "Index(['Latitude', 'Longitude', 'YearBuilt', 'PropertyGFATotal',\n",
       "       'PropertyGFABuilding(s)', 'SiteEnergyUseWN(kBtu)',\n",
       "       'BuildingType_Campus', 'BuildingType_NonResidential',\n",
       "       'BuildingType_Nonresidential COS', 'BuildingType_Nonresidential WA',\n",
       "       'BuildingType_SPS-District K-12',\n",
       "       'PrimaryPropertyType_Distribution Center',\n",
       "       'PrimaryPropertyType_Hospital', 'PrimaryPropertyType_Hotel',\n",
       "       'PrimaryPropertyType_K-12 School', 'PrimaryPropertyType_Laboratory',\n",
       "       'PrimaryPropertyType_Large Office',\n",
       "       'PrimaryPropertyType_Medical Office',\n",
       "       'PrimaryPropertyType_Mixed Use Property', 'PrimaryPropertyType_Other',\n",
       "       'PrimaryPropertyType_Refrigerated Warehouse',\n",
       "       'PrimaryPropertyType_Residence Hall', 'PrimaryPropertyType_Restaurant',\n",
       "       'PrimaryPropertyType_Retail Store',\n",
       "       'PrimaryPropertyType_Self-Storage Facility',\n",
       "       'PrimaryPropertyType_Senior Care Community',\n",
       "       'PrimaryPropertyType_Small- and Mid-Sized Office',\n",
       "       'PrimaryPropertyType_Supermarket / Grocery Store',\n",
       "       'PrimaryPropertyType_University', 'PrimaryPropertyType_Warehouse',\n",
       "       'PrimaryPropertyType_Worship Facility', 'Neighborhood_BALLARD',\n",
       "       'Neighborhood_Ballard', 'Neighborhood_CENTRAL', 'Neighborhood_Central',\n",
       "       'Neighborhood_DELRIDGE', 'Neighborhood_DOWNTOWN',\n",
       "       'Neighborhood_Delridge', 'Neighborhood_EAST',\n",
       "       'Neighborhood_GREATER DUWAMISH', 'Neighborhood_LAKE UNION',\n",
       "       'Neighborhood_MAGNOLIA / QUEEN ANNE', 'Neighborhood_NORTH',\n",
       "       'Neighborhood_NORTHEAST', 'Neighborhood_NORTHWEST',\n",
       "       'Neighborhood_North', 'Neighborhood_Northwest',\n",
       "       'Neighborhood_SOUTHEAST', 'Neighborhood_SOUTHWEST'],\n",
       "      dtype='object')"
      ]
     },
     "execution_count": 7,
     "metadata": {},
     "output_type": "execute_result"
    }
   ],
   "source": [
    "df_1er_essai.columns"
   ]
  },
  {
   "cell_type": "markdown",
   "id": "d11c83fc",
   "metadata": {},
   "source": [
    "#### Nous allons séparer les données en un ensemble de données X et une variable cible y que nous voulons prédire."
   ]
  },
  {
   "cell_type": "code",
   "execution_count": 8,
   "id": "59e4fbc9",
   "metadata": {},
   "outputs": [],
   "source": [
    "X = df_1er_essai.drop(['SiteEnergyUseWN(kBtu)'], axis=1)\n",
    "y = df_1er_essai['SiteEnergyUseWN(kBtu)']"
   ]
  },
  {
   "cell_type": "markdown",
   "id": "8b43a8bf",
   "metadata": {},
   "source": [
    "#### On separe les données d'entrainement et de test"
   ]
  },
  {
   "cell_type": "code",
   "execution_count": 9,
   "id": "1fec7bb9",
   "metadata": {},
   "outputs": [],
   "source": [
    "X_train, X_test, y_train, y_test = model_selection.train_test_split(X, y, test_size=0.3, random_state = 123) # 30% des données dans le jeu de test"
   ]
  },
  {
   "cell_type": "markdown",
   "id": "c950ec87",
   "metadata": {},
   "source": [
    "#### On standardise donc les données des variables numériques"
   ]
  },
  {
   "cell_type": "code",
   "execution_count": 10,
   "id": "f259b053",
   "metadata": {
    "scrolled": true
   },
   "outputs": [],
   "source": [
    "standardScaler = StandardScaler()\n",
    "standardScaler.fit(X_train)\n",
    "\n",
    "X_train_std = pd.DataFrame(data=standardScaler.transform(X_train),index=X_train.index,columns=X_train.columns)\n",
    "X_test_std = pd.DataFrame(data=standardScaler.transform(X_test),index=X_test.index,columns=X_test.columns)"
   ]
  },
  {
   "cell_type": "markdown",
   "id": "c26e2ac7",
   "metadata": {},
   "source": [
    "## Dummy regressor "
   ]
  },
  {
   "cell_type": "code",
   "execution_count": 11,
   "id": "9f676da6",
   "metadata": {},
   "outputs": [
    {
     "data": {
      "text/plain": [
       "DummyRegressor()"
      ]
     },
     "execution_count": 11,
     "metadata": {},
     "output_type": "execute_result"
    }
   ],
   "source": [
    "dummy = DummyRegressor(strategy=\"mean\")\n",
    "dummy.fit(X_train_std, y_train)"
   ]
  },
  {
   "cell_type": "code",
   "execution_count": 12,
   "id": "3a34a1cc",
   "metadata": {},
   "outputs": [
    {
     "name": "stdout",
     "output_type": "stream",
     "text": [
      "score train : 0.0\n",
      "score test : -0.0073166769232853035\n",
      "rmse train : 17248316.235856816\n",
      "rmse test : 11117799.189000338\n"
     ]
    }
   ],
   "source": [
    "# Score R2\n",
    "print('score train :', dummy.score(X_train_std, y_train))\n",
    "print('score test :', dummy.score(X_test_std, y_test))\n",
    "\n",
    "#Score RMSE\n",
    "print('rmse train :', np.sqrt(mean_squared_error(dummy.predict(X_train_std), y_train)))\n",
    "print('rmse test :', np.sqrt(mean_squared_error(dummy.predict(X_test_std), y_test)))"
   ]
  },
  {
   "cell_type": "code",
   "execution_count": 13,
   "id": "e6d7d04d",
   "metadata": {},
   "outputs": [],
   "source": [
    "# On ajoute les scores au dataframe results\n",
    "results = add_results(dummy,'Dummy Regressor', 'Premières prédictions', results)"
   ]
  },
  {
   "cell_type": "markdown",
   "id": "6d1b913b",
   "metadata": {},
   "source": [
    "## Regression Regularisée : Ridge"
   ]
  },
  {
   "cell_type": "markdown",
   "id": "5e3acffd",
   "metadata": {},
   "source": [
    "#### l'objectif est de biaiser un peu la prédiction, afin de diminuer l'erreur standard \n",
    "on cherche le coefficient de regularisation alpha adapté"
   ]
  },
  {
   "cell_type": "code",
   "execution_count": 14,
   "id": "9756aacd",
   "metadata": {},
   "outputs": [
    {
     "data": {
      "text/plain": [
       "RidgeCV(alphas=array([1.0e-03, 1.0e-02, 1.0e-01, 3.0e-01, 7.0e-01, 1.0e+00, 1.0e+01,\n",
       "       2.0e+01, 3.0e+01, 5.0e+01, 1.0e+02, 2.0e+02, 3.0e+02, 3.5e+02,\n",
       "       4.0e+02]),\n",
       "        scoring='r2')"
      ]
     },
     "execution_count": 14,
     "metadata": {},
     "output_type": "execute_result"
    }
   ],
   "source": [
    "#On va tester un certain nombre de coefficients pour trouver celui qui est optimal\n",
    "alphas = (0.001, 0.01, 0.1, 0.3, 0.7, 1, 10, 20, 30, 50, 100, 200, 300, 350, 400)\n",
    "ridge_reg = RidgeCV(alphas = alphas, scoring ='r2')\n",
    "ridge_reg.fit(X_train_std, y_train)\n"
   ]
  },
  {
   "cell_type": "code",
   "execution_count": 15,
   "id": "617d5a0d",
   "metadata": {},
   "outputs": [
    {
     "name": "stdout",
     "output_type": "stream",
     "text": [
      "alpha sélectionné par c-v : 400.0\n",
      "score train : 0.3596874060515979\n",
      "score test : 0.36764809360394957\n",
      "rmse train : 13802022.401853867\n",
      "rmse test : 8808769.16812742\n"
     ]
    }
   ],
   "source": [
    "#Alpha choisi par Cross Validation\n",
    "print('alpha sélectionné par c-v :', ridge_reg.alpha_)\n",
    "\n",
    "# Score R2\n",
    "print('score train :', ridge_reg.score(X_train_std, y_train))\n",
    "print('score test :', ridge_reg.score(X_test_std, y_test))\n",
    "\n",
    "#Score RMSE\n",
    "print('rmse train :', np.sqrt(mean_squared_error(ridge_reg.predict(X_train_std), y_train)))\n",
    "print('rmse test :', np.sqrt(mean_squared_error(ridge_reg.predict(X_test_std), y_test)))\n"
   ]
  },
  {
   "cell_type": "code",
   "execution_count": 16,
   "id": "ab3316f9",
   "metadata": {},
   "outputs": [],
   "source": [
    "# On ajoute les scores au dataframe results\n",
    "results = add_results(ridge_reg, 'RidgeCV', 'Premières prédictions', results)"
   ]
  },
  {
   "cell_type": "code",
   "execution_count": 17,
   "id": "d518846a",
   "metadata": {},
   "outputs": [
    {
     "data": {
      "image/png": "[encoded data removed]",
      "text/plain": [
       "<Figure size 720x576 with 1 Axes>"
      ]
     },
     "metadata": {
      "needs_background": "light"
     },
     "output_type": "display_data"
    }
   ],
   "source": [
    "# on affiche les variables les plus importantes du modèle, relativement aux coefficients calculés\n",
    "coef = pd.Series(ridge_reg.coef_, index = X_train.columns)\n",
    "\n",
    "imp_coef = pd.concat([coef.sort_values(ascending=False).head(10),\n",
    "                     coef.sort_values().head(10)])\n",
    "\n",
    "plt.figure(figsize= (10,8))\n",
    "imp_coef.plot(kind = \"barh\")\n",
    "plt.title(\"Coefficients in the Ridge Model\");"
   ]
  },
  {
   "cell_type": "markdown",
   "id": "41639765",
   "metadata": {},
   "source": [
    "## Random Forest Regressor"
   ]
  },
  {
   "cell_type": "code",
   "execution_count": 18,
   "id": "618f679d",
   "metadata": {},
   "outputs": [],
   "source": [
    "#on va tester un certain nombre de paramètres pour trouver celui qui est optimal\n",
    "\n",
    "parameters = {'n_estimators' : [5,10,20,25,30,50,90,100,110,120,130,200], #nombre d'arbres de décision\n",
    "              'min_samples_leaf' : [1,2,3,4,5,10],                        #nombre de feuilles minimales dans un noeud\n",
    "              'max_features': ['auto', 'sqrt']                            #nombre de features observées pour chaque arbre\n",
    "}"
   ]
  },
  {
   "cell_type": "code",
   "execution_count": 19,
   "id": "37f35ce1",
   "metadata": {},
   "outputs": [],
   "source": [
    "# Créer un regresseur Random Forest Regressor avec recherche d'hyperparamètre par validation croisée\n",
    "rfr_search = model_selection.GridSearchCV(RandomForestRegressor(n_jobs=-1,random_state=123),\n",
    "                                          param_grid = parameters,\n",
    "                                          scoring='r2',\n",
    "                                          cv=5,\n",
    "                                          n_jobs=-1)\n",
    "\n",
    "# Optimiser ce regresseur sur le jeu d'entraînement\n",
    "rfr = rfr_search.fit(X_train_std, y_train)"
   ]
  },
  {
   "cell_type": "code",
   "execution_count": 20,
   "id": "d8b49a97",
   "metadata": {},
   "outputs": [
    {
     "name": "stdout",
     "output_type": "stream",
     "text": [
      "les meilleurs hyperparamètres pour le RFR sont :{'max_features': 'sqrt', 'min_samples_leaf': 2, 'n_estimators': 20}\n",
      "score train : 0.6742539235370276\n",
      "score test : 0.5751020752479014\n",
      "rmse train : 9844333.154464476\n",
      "rmse test : 7220680.327494724\n",
      "rmsle train : 1.6077925024560966\n",
      "rmsle test : 1.166712530711869\n"
     ]
    }
   ],
   "source": [
    "# Afficher le(s) hyperparamètre(s) optimaux\n",
    "print(\"les meilleurs hyperparamètres pour le RFR sont :{}\".format(rfr.best_params_))\n",
    "\n",
    "# Scores R2\n",
    "print('score train :', rfr.score(X_train_std, y_train))\n",
    "print('score test :', rfr.score(X_test_std, y_test))\n",
    "\n",
    "# Scores RMSE\n",
    "print('rmse train :', np.sqrt(mean_squared_error(rfr.predict(X_train_std), y_train)))\n",
    "print('rmse test :', np.sqrt(mean_squared_error(rfr.predict(X_test_std), y_test)))\n",
    "\n",
    "#Score RMSLE \n",
    "print('rmsle train :', np.sqrt(mean_squared_log_error(rfr.predict(X_train_std), y_train)))\n",
    "print('rmsle test :', np.sqrt(mean_squared_log_error(rfr.predict(X_test_std), y_test)))\n"
   ]
  },
  {
   "cell_type": "code",
   "execution_count": 21,
   "id": "1b122159",
   "metadata": {},
   "outputs": [],
   "source": [
    "# On ajoute les scores au dataframe results\n",
    "results = add_results(rfr, 'RFR', 'Premières prédictions', results)"
   ]
  },
  {
   "cell_type": "code",
   "execution_count": 22,
   "id": "636c3dc6",
   "metadata": {},
   "outputs": [
    {
     "data": {
      "image/png": "[encoded data removed]",
      "text/plain": [
       "<Figure size 576x576 with 1 Axes>"
      ]
     },
     "metadata": {
      "needs_background": "light"
     },
     "output_type": "display_data"
    }
   ],
   "source": [
    "#On affiche les variables les plus importantes dans le modele \n",
    "\n",
    "coefficients = abs(rfr.best_estimator_.feature_importances_)\n",
    "liste_coefs_rfr = pd.concat((pd.DataFrame(X.columns, columns = ['Variable']), \n",
    "                      pd.DataFrame(coefficients, columns = ['Coefficient'])), axis = 1).sort_values(by='Coefficient', ascending = False)\n",
    "\n",
    "\n",
    "plt.figure(figsize=(8,8))\n",
    "plt.title('RandomForestRegressor - Importance des 20 premières Features')\n",
    "sns.barplot(y = liste_coefs_rfr['Variable'].head(20),\n",
    "            x = liste_coefs_rfr['Coefficient'].head(20))\n",
    "plt.show()"
   ]
  },
  {
   "cell_type": "markdown",
   "id": "f1c1ec15",
   "metadata": {},
   "source": [
    "### Gradient Boosting Regressor "
   ]
  },
  {
   "cell_type": "code",
   "execution_count": 23,
   "id": "c531e78c",
   "metadata": {},
   "outputs": [
    {
     "data": {
      "text/plain": [
       "GridSearchCV(cv=5, estimator=GradientBoostingRegressor(random_state=123),\n",
       "             n_jobs=-1,\n",
       "             param_grid={'learning_rate': [0.01, 0.05, 0.1, 0.5, 1, 0.5],\n",
       "                         'max_depth': [3, 4, 5],\n",
       "                         'max_features': ['log2', 'sqrt'],\n",
       "                         'min_samples_leaf': [2, 4, 5, 6],\n",
       "                         'n_estimators': [5, 10, 15, 20, 100, 500],\n",
       "                         'subsample': [0.6, 0.7, 0.8]},\n",
       "             scoring='r2')"
      ]
     },
     "execution_count": 23,
     "metadata": {},
     "output_type": "execute_result"
    }
   ],
   "source": [
    "# Fixer les valeurs des hyperparamètres à tester\n",
    "parameters = {\"max_features\":[\"log2\",\"sqrt\"],\n",
    "              'learning_rate': [0.01,0.05,0.1,0.5,1,0.5], # eta value\n",
    "              'max_depth': [3,4,5],\n",
    "              'min_samples_leaf': [2,4,5,6],\n",
    "              'subsample': [0.6,0.7,0.8],\n",
    "              'n_estimators': [5,10,15,20,100,500], #number of trees, change it to 1000 for better results\n",
    "}\n",
    "\n",
    "\n",
    "# Créer un regresseur XGBoost avec recherche d'hyperparamètre par validation croisée\n",
    "gbr_grid = model_selection.GridSearchCV(GradientBoostingRegressor(random_state = 123),\n",
    "                                        param_grid = parameters,\n",
    "                                        scoring = 'r2',\n",
    "                                        cv = 5,\n",
    "                                        n_jobs = -1)\n",
    "\n",
    "# Optimiser ce regresseur sur le jeu d'entraînement\n",
    "gbr_grid.fit(X_train_std, y_train)"
   ]
  },
  {
   "cell_type": "code",
   "execution_count": 24,
   "id": "670c79d1",
   "metadata": {},
   "outputs": [
    {
     "name": "stdout",
     "output_type": "stream",
     "text": [
      "les meilleurs hyperparamètres pour le XGB sont :{'learning_rate': 0.05, 'max_depth': 3, 'max_features': 'log2', 'min_samples_leaf': 2, 'n_estimators': 100, 'subsample': 0.8}\n",
      "score train : 0.7357718170761257\n",
      "score test : 0.5489738974961498\n",
      "rmse train : 8866174.510546114\n",
      "rmse test : 7439378.441358701\n"
     ]
    }
   ],
   "source": [
    "# Afficher le(s) hyperparamètre(s) optimaux\n",
    "print(\"les meilleurs hyperparamètres pour le XGB sont :{}\".format(gbr_grid.best_params_))\n",
    "\n",
    "# Scores R2\n",
    "print('score train :', gbr_grid.score(X_train_std, y_train))\n",
    "print('score test :', gbr_grid.score(X_test_std, y_test))\n",
    "\n",
    "# Scores RMSE\n",
    "print('rmse train :', np.sqrt(mean_squared_error(gbr_grid.predict(X_train_std), y_train)))\n",
    "print('rmse test :', np.sqrt(mean_squared_error(gbr_grid.predict(X_test_std), y_test)))"
   ]
  },
  {
   "cell_type": "code",
   "execution_count": 25,
   "id": "5da3af8c",
   "metadata": {},
   "outputs": [],
   "source": [
    "# On ajoute les scores au dataframe results\n",
    "results = add_results(gbr_grid, 'Gradient Boosting', 'Premières prédictions', results)"
   ]
  },
  {
   "cell_type": "markdown",
   "id": "9d4afe83",
   "metadata": {},
   "source": [
    "## Resultat du premier essai"
   ]
  },
  {
   "cell_type": "code",
   "execution_count": 26,
   "id": "789f8e7b",
   "metadata": {},
   "outputs": [
    {
     "data": {
      "text/html": [
       "<div>\n",
       "<style scoped>\n",
       "    .dataframe tbody tr th:only-of-type {\n",
       "        vertical-align: middle;\n",
       "    }\n",
       "\n",
       "    .dataframe tbody tr th {\n",
       "        vertical-align: top;\n",
       "    }\n",
       "\n",
       "    .dataframe thead th {\n",
       "        text-align: right;\n",
       "    }\n",
       "</style>\n",
       "<table border=\"1\" class=\"dataframe\">\n",
       "  <thead>\n",
       "    <tr style=\"text-align: right;\">\n",
       "      <th></th>\n",
       "      <th>Modèle</th>\n",
       "      <th>Cas</th>\n",
       "      <th>Score_RMSE_test</th>\n",
       "      <th>Score_RMSE_train</th>\n",
       "      <th>Score_r2_test</th>\n",
       "      <th>Score_r2_train</th>\n",
       "    </tr>\n",
       "  </thead>\n",
       "  <tbody>\n",
       "    <tr>\n",
       "      <th>0</th>\n",
       "      <td>Dummy Regressor</td>\n",
       "      <td>Premières prédictions</td>\n",
       "      <td>1.111780e+07</td>\n",
       "      <td>1.724832e+07</td>\n",
       "      <td>-0.007317</td>\n",
       "      <td>0.000000</td>\n",
       "    </tr>\n",
       "    <tr>\n",
       "      <th>1</th>\n",
       "      <td>RidgeCV</td>\n",
       "      <td>Premières prédictions</td>\n",
       "      <td>8.808769e+06</td>\n",
       "      <td>1.380202e+07</td>\n",
       "      <td>0.367648</td>\n",
       "      <td>0.359687</td>\n",
       "    </tr>\n",
       "    <tr>\n",
       "      <th>2</th>\n",
       "      <td>RFR</td>\n",
       "      <td>Premières prédictions</td>\n",
       "      <td>7.220680e+06</td>\n",
       "      <td>9.844333e+06</td>\n",
       "      <td>0.575102</td>\n",
       "      <td>0.674254</td>\n",
       "    </tr>\n",
       "    <tr>\n",
       "      <th>3</th>\n",
       "      <td>Gradient Boosting</td>\n",
       "      <td>Premières prédictions</td>\n",
       "      <td>7.439378e+06</td>\n",
       "      <td>8.866175e+06</td>\n",
       "      <td>0.548974</td>\n",
       "      <td>0.735772</td>\n",
       "    </tr>\n",
       "  </tbody>\n",
       "</table>\n",
       "</div>"
      ],
      "text/plain": [
       "              Modèle                    Cas  Score_RMSE_test  \\\n",
       "0    Dummy Regressor  Premières prédictions     1.111780e+07   \n",
       "1            RidgeCV  Premières prédictions     8.808769e+06   \n",
       "2                RFR  Premières prédictions     7.220680e+06   \n",
       "3  Gradient Boosting  Premières prédictions     7.439378e+06   \n",
       "\n",
       "   Score_RMSE_train  Score_r2_test  Score_r2_train  \n",
       "0      1.724832e+07      -0.007317        0.000000  \n",
       "1      1.380202e+07       0.367648        0.359687  \n",
       "2      9.844333e+06       0.575102        0.674254  \n",
       "3      8.866175e+06       0.548974        0.735772  "
      ]
     },
     "execution_count": 26,
     "metadata": {},
     "output_type": "execute_result"
    }
   ],
   "source": [
    "results"
   ]
  },
  {
   "cell_type": "markdown",
   "id": "aebc8e9b",
   "metadata": {},
   "source": [
    "# Deuxième essai de predictions : passage au log de la variable cible"
   ]
  },
  {
   "cell_type": "code",
   "execution_count": 27,
   "id": "a2ddb62c",
   "metadata": {},
   "outputs": [],
   "source": [
    "df_2eme_essai = df.drop(['TotalGHGEmissions',\n",
    "                         'ENERGYSTARScore',\n",
    "                         #'PropertyGFABuilding(s)',\n",
    "                         'NumberofBuildings',\n",
    "                         'NumberofFloors',\n",
    "                         'Electricity_ratio',\n",
    "                         'Steam_ratio', \n",
    "                         'NaturalGas_ratio',\n",
    "                         'NumberofBuildings_log',\n",
    "                         'NumberofFloors_log',\n",
    "                         'PropertyGFATotal_log',\n",
    "                         #'PropertyGFATotal',\n",
    "                         'PropertyGFAParking',\n",
    "                         'PropertyGFAParking_log',\n",
    "                         'PropertyGFABuilding(s)_log',\n",
    "                         'SiteEnergyUseWN(kBtu)',\n",
    "                         #'SiteEnergyUseWN(kBtu)_log',\n",
    "                         'TotalGHGEmissions_log'] \n",
    "                        #+ columns_PrimaryPropertyType\n",
    "                        + columns_PropertyUse_ratio \n",
    "                        , axis=1)"
   ]
  },
  {
   "cell_type": "code",
   "execution_count": 28,
   "id": "2a5ef925",
   "metadata": {},
   "outputs": [
    {
     "data": {
      "text/plain": [
       "Index(['Latitude', 'Longitude', 'YearBuilt', 'PropertyGFATotal',\n",
       "       'PropertyGFABuilding(s)', 'BuildingType_Campus',\n",
       "       'BuildingType_NonResidential', 'BuildingType_Nonresidential COS',\n",
       "       'BuildingType_Nonresidential WA', 'BuildingType_SPS-District K-12',\n",
       "       'PrimaryPropertyType_Distribution Center',\n",
       "       'PrimaryPropertyType_Hospital', 'PrimaryPropertyType_Hotel',\n",
       "       'PrimaryPropertyType_K-12 School', 'PrimaryPropertyType_Laboratory',\n",
       "       'PrimaryPropertyType_Large Office',\n",
       "       'PrimaryPropertyType_Medical Office',\n",
       "       'PrimaryPropertyType_Mixed Use Property', 'PrimaryPropertyType_Other',\n",
       "       'PrimaryPropertyType_Refrigerated Warehouse',\n",
       "       'PrimaryPropertyType_Residence Hall', 'PrimaryPropertyType_Restaurant',\n",
       "       'PrimaryPropertyType_Retail Store',\n",
       "       'PrimaryPropertyType_Self-Storage Facility',\n",
       "       'PrimaryPropertyType_Senior Care Community',\n",
       "       'PrimaryPropertyType_Small- and Mid-Sized Office',\n",
       "       'PrimaryPropertyType_Supermarket / Grocery Store',\n",
       "       'PrimaryPropertyType_University', 'PrimaryPropertyType_Warehouse',\n",
       "       'PrimaryPropertyType_Worship Facility', 'Neighborhood_BALLARD',\n",
       "       'Neighborhood_Ballard', 'Neighborhood_CENTRAL', 'Neighborhood_Central',\n",
       "       'Neighborhood_DELRIDGE', 'Neighborhood_DOWNTOWN',\n",
       "       'Neighborhood_Delridge', 'Neighborhood_EAST',\n",
       "       'Neighborhood_GREATER DUWAMISH', 'Neighborhood_LAKE UNION',\n",
       "       'Neighborhood_MAGNOLIA / QUEEN ANNE', 'Neighborhood_NORTH',\n",
       "       'Neighborhood_NORTHEAST', 'Neighborhood_NORTHWEST',\n",
       "       'Neighborhood_North', 'Neighborhood_Northwest',\n",
       "       'Neighborhood_SOUTHEAST', 'Neighborhood_SOUTHWEST',\n",
       "       'SiteEnergyUseWN(kBtu)_log'],\n",
       "      dtype='object')"
      ]
     },
     "execution_count": 28,
     "metadata": {},
     "output_type": "execute_result"
    }
   ],
   "source": [
    "df_2eme_essai.columns"
   ]
  },
  {
   "cell_type": "markdown",
   "id": "8df27ebc",
   "metadata": {},
   "source": [
    "### On sépare la variable cible et les features "
   ]
  },
  {
   "cell_type": "code",
   "execution_count": 29,
   "id": "0f1f135b",
   "metadata": {},
   "outputs": [],
   "source": [
    "X2 = df_2eme_essai.drop(['SiteEnergyUseWN(kBtu)_log'], axis=1)\n",
    "y2 = df_2eme_essai['SiteEnergyUseWN(kBtu)_log']"
   ]
  },
  {
   "cell_type": "markdown",
   "id": "0733663f",
   "metadata": {},
   "source": [
    "### On sépare les données d'entrainement et de test et on standardise les données numérique"
   ]
  },
  {
   "cell_type": "code",
   "execution_count": 30,
   "id": "b3a37713",
   "metadata": {},
   "outputs": [],
   "source": [
    "# On separe les données d'entrainement et de test\n",
    "X_train, X_test, y_train, y_test = model_selection.train_test_split(X2, y2, test_size=0.3, random_state = 123) # 30% des données dans le jeu de test\n",
    "\n",
    "#On standardise les données \n",
    "standardScaler = StandardScaler()\n",
    "standardScaler.fit(X_train)\n",
    "\n",
    "X_train_std = pd.DataFrame(data=standardScaler.transform(X_train),index=X_train.index,columns=X_train.columns)\n",
    "X_test_std = pd.DataFrame(data=standardScaler.transform(X_test),index=X_test.index,columns=X_test.columns)"
   ]
  },
  {
   "cell_type": "markdown",
   "id": "ca714368",
   "metadata": {},
   "source": [
    "### Regression Regularisée : Ridge"
   ]
  },
  {
   "cell_type": "code",
   "execution_count": 31,
   "id": "4a135d40",
   "metadata": {},
   "outputs": [
    {
     "data": {
      "text/plain": [
       "RidgeCV(alphas=array([1.0e-03, 1.0e-02, 1.0e-01, 3.0e-01, 7.0e-01, 1.0e+00, 1.0e+01,\n",
       "       2.0e+01, 3.0e+01, 5.0e+01, 1.0e+02, 2.0e+02, 3.0e+02, 3.5e+02,\n",
       "       4.0e+02]))"
      ]
     },
     "execution_count": 31,
     "metadata": {},
     "output_type": "execute_result"
    }
   ],
   "source": [
    "#l'objectif est de biaiser un peu la prédiction, afin de diminuer l'erreur standard \n",
    "# on cherche le coefficient de regularisation alpha adapté\n",
    "#on va tester un certain nombre de coefficients pour trouver celui qui est optimal\n",
    "\n",
    "ridge_reg = RidgeCV(alphas = (0.001, 0.01, 0.1, 0.3, 0.7, 1, 10, 20, 30, 50, 100, 200, 300, 350, 400))\n",
    "ridge_reg.fit(X_train_std, y_train)"
   ]
  },
  {
   "cell_type": "code",
   "execution_count": 32,
   "id": "47adcd68",
   "metadata": {},
   "outputs": [
    {
     "name": "stdout",
     "output_type": "stream",
     "text": [
      "alpha sélectionné par c-v : 400.0\n"
     ]
    }
   ],
   "source": [
    "#Alpha choisi par Cross Validation\n",
    "print('alpha sélectionné par c-v :', ridge_reg.alpha_)"
   ]
  },
  {
   "cell_type": "code",
   "execution_count": 33,
   "id": "4731d11f",
   "metadata": {},
   "outputs": [],
   "source": [
    "# On ajoute les scores au dataframe results\n",
    "results = add_results(ridge_reg, 'RidgeCV', 'Passage au log de la variable cible', results)\n"
   ]
  },
  {
   "cell_type": "markdown",
   "id": "dac47af4",
   "metadata": {},
   "source": [
    "## Random Forest Regressor"
   ]
  },
  {
   "cell_type": "code",
   "execution_count": 34,
   "id": "23ad5d17",
   "metadata": {},
   "outputs": [
    {
     "data": {
      "text/plain": [
       "GridSearchCV(cv=5, estimator=RandomForestRegressor(n_jobs=-1, random_state=123),\n",
       "             n_jobs=-1,\n",
       "             param_grid={'max_features': ['auto', 'sqrt'],\n",
       "                         'min_samples_leaf': [1, 2, 3, 4, 5, 10],\n",
       "                         'n_estimators': [5, 10, 20, 25, 30, 50, 90, 100, 110,\n",
       "                                          120, 130, 200]},\n",
       "             scoring='r2')"
      ]
     },
     "execution_count": 34,
     "metadata": {},
     "output_type": "execute_result"
    }
   ],
   "source": [
    "#on va tester un certain nombre de paramètres pour trouver celui qui est optimal\n",
    "\n",
    "parameters = {'n_estimators' : [5,10,20,25,30,50,90,100,110,120,130,200], #nombre d'arbres de décision\n",
    "              'min_samples_leaf' : [1,2,3,4,5,10],                        #nombre de feuilles minimales dans un noeud\n",
    "              'max_features': ['auto', 'sqrt']                            #nombre de features observées pour chaque arbre\n",
    "}\n",
    "# Créer un regresseur Random Forest Regressor avec recherche d'hyperparamètre par validation croisée\n",
    "rfr_search = model_selection.GridSearchCV(RandomForestRegressor(n_jobs=-1,random_state=123),\n",
    "                                          param_grid = parameters,\n",
    "                                          scoring='r2',\n",
    "                                          cv=5,\n",
    "                                          n_jobs=-1)\n",
    "\n",
    "# Optimiser ce regresseur sur le jeu d'entraînement\n",
    "rfr_search.fit(X_train_std, y_train)"
   ]
  },
  {
   "cell_type": "code",
   "execution_count": 35,
   "id": "eb0456af",
   "metadata": {},
   "outputs": [
    {
     "name": "stdout",
     "output_type": "stream",
     "text": [
      "les meilleurs hyperparamètres pour le RFR sont :{'max_features': 'sqrt', 'min_samples_leaf': 5, 'n_estimators': 30}\n"
     ]
    }
   ],
   "source": [
    "# Afficher le(s) hyperparamètre(s) optimaux\n",
    "print(\"les meilleurs hyperparamètres pour le RFR sont :{}\".format(rfr_search.best_params_))"
   ]
  },
  {
   "cell_type": "code",
   "execution_count": 36,
   "id": "48737e39",
   "metadata": {},
   "outputs": [],
   "source": [
    "# On ajoute les scores au dataframe results\n",
    "results = add_results(rfr_search, 'RFR', 'Passage au log de la variable cible', results)\n"
   ]
  },
  {
   "cell_type": "markdown",
   "id": "981dfd27",
   "metadata": {},
   "source": [
    "### Gradient Boosting Regressor "
   ]
  },
  {
   "cell_type": "code",
   "execution_count": 37,
   "id": "33a27635",
   "metadata": {},
   "outputs": [
    {
     "data": {
      "text/plain": [
       "GridSearchCV(cv=5, estimator=GradientBoostingRegressor(random_state=123),\n",
       "             n_jobs=-1,\n",
       "             param_grid={'learning_rate': [0.01, 0.05, 0.1, 0.5, 1, 0.5],\n",
       "                         'max_depth': [3, 4, 5],\n",
       "                         'max_features': ['log2', 'sqrt'],\n",
       "                         'min_samples_leaf': [2, 4, 5, 6],\n",
       "                         'n_estimators': [5, 10, 15, 20, 100, 500],\n",
       "                         'subsample': [0.6, 0.7, 0.8]},\n",
       "             scoring='r2')"
      ]
     },
     "execution_count": 37,
     "metadata": {},
     "output_type": "execute_result"
    }
   ],
   "source": [
    "# Fixer les valeurs des hyperparamètres à tester\n",
    "parameters = {\"max_features\":[\"log2\",\"sqrt\"],\n",
    "              'learning_rate': [0.01,0.05,0.1,0.5,1,0.5], # eta value\n",
    "              'max_depth': [3,4,5],\n",
    "              'min_samples_leaf': [2,4,5,6],\n",
    "              'subsample': [0.6,0.7,0.8],\n",
    "              'n_estimators': [5,10,15,20,100,500], #number of trees, change it to 1000 for better results\n",
    "}\n",
    "\n",
    "\n",
    "# Créer un regresseur XGBoost avec recherche d'hyperparamètre par validation croisée\n",
    "gbr_grid = model_selection.GridSearchCV(GradientBoostingRegressor(random_state = 123),\n",
    "                                        param_grid = parameters,\n",
    "                                        scoring = 'r2',\n",
    "                                        cv = 5,\n",
    "                                        n_jobs = -1)\n",
    "\n",
    "# Optimiser ce regresseur sur le jeu d'entraînement\n",
    "gbr_grid.fit(X_train_std, y_train)"
   ]
  },
  {
   "cell_type": "code",
   "execution_count": 38,
   "id": "715237f6",
   "metadata": {},
   "outputs": [
    {
     "name": "stdout",
     "output_type": "stream",
     "text": [
      "les meilleurs hyperparamètres pour le GBR sont :{'learning_rate': 0.05, 'max_depth': 5, 'max_features': 'log2', 'min_samples_leaf': 5, 'n_estimators': 100, 'subsample': 0.6}\n"
     ]
    }
   ],
   "source": [
    "# Afficher le(s) hyperparamètre(s) optimaux\n",
    "print(\"les meilleurs hyperparamètres pour le GBR sont :{}\".format(gbr_grid.best_params_))\n"
   ]
  },
  {
   "cell_type": "code",
   "execution_count": 39,
   "id": "894f000a",
   "metadata": {},
   "outputs": [],
   "source": [
    "# On ajoute les scores au dataframe results\n",
    "results = add_results(gbr_grid, 'Gradient Boosting', 'Passage au log de la variable cible', results)"
   ]
  },
  {
   "cell_type": "markdown",
   "id": "a379ffb1",
   "metadata": {},
   "source": [
    "### Résultat du 2ème essai"
   ]
  },
  {
   "cell_type": "code",
   "execution_count": 40,
   "id": "99a035a5",
   "metadata": {},
   "outputs": [
    {
     "data": {
      "text/html": [
       "<div>\n",
       "<style scoped>\n",
       "    .dataframe tbody tr th:only-of-type {\n",
       "        vertical-align: middle;\n",
       "    }\n",
       "\n",
       "    .dataframe tbody tr th {\n",
       "        vertical-align: top;\n",
       "    }\n",
       "\n",
       "    .dataframe thead th {\n",
       "        text-align: right;\n",
       "    }\n",
       "</style>\n",
       "<table border=\"1\" class=\"dataframe\">\n",
       "  <thead>\n",
       "    <tr style=\"text-align: right;\">\n",
       "      <th></th>\n",
       "      <th>Modèle</th>\n",
       "      <th>Cas</th>\n",
       "      <th>Score_RMSE_test</th>\n",
       "      <th>Score_RMSE_train</th>\n",
       "      <th>Score_r2_test</th>\n",
       "      <th>Score_r2_train</th>\n",
       "    </tr>\n",
       "  </thead>\n",
       "  <tbody>\n",
       "    <tr>\n",
       "      <th>0</th>\n",
       "      <td>Dummy Regressor</td>\n",
       "      <td>Premières prédictions</td>\n",
       "      <td>1.111780e+07</td>\n",
       "      <td>1.724832e+07</td>\n",
       "      <td>-0.007317</td>\n",
       "      <td>0.000000</td>\n",
       "    </tr>\n",
       "    <tr>\n",
       "      <th>1</th>\n",
       "      <td>RidgeCV</td>\n",
       "      <td>Premières prédictions</td>\n",
       "      <td>8.808769e+06</td>\n",
       "      <td>1.380202e+07</td>\n",
       "      <td>0.367648</td>\n",
       "      <td>0.359687</td>\n",
       "    </tr>\n",
       "    <tr>\n",
       "      <th>2</th>\n",
       "      <td>RFR</td>\n",
       "      <td>Premières prédictions</td>\n",
       "      <td>7.220680e+06</td>\n",
       "      <td>9.844333e+06</td>\n",
       "      <td>0.575102</td>\n",
       "      <td>0.674254</td>\n",
       "    </tr>\n",
       "    <tr>\n",
       "      <th>3</th>\n",
       "      <td>Gradient Boosting</td>\n",
       "      <td>Premières prédictions</td>\n",
       "      <td>7.439378e+06</td>\n",
       "      <td>8.866175e+06</td>\n",
       "      <td>0.548974</td>\n",
       "      <td>0.735772</td>\n",
       "    </tr>\n",
       "    <tr>\n",
       "      <th>4</th>\n",
       "      <td>RidgeCV</td>\n",
       "      <td>Passage au log de la variable cible</td>\n",
       "      <td>1.251702e+00</td>\n",
       "      <td>1.628812e+00</td>\n",
       "      <td>0.234730</td>\n",
       "      <td>0.242211</td>\n",
       "    </tr>\n",
       "    <tr>\n",
       "      <th>5</th>\n",
       "      <td>RFR</td>\n",
       "      <td>Passage au log de la variable cible</td>\n",
       "      <td>1.072386e+00</td>\n",
       "      <td>1.450636e+00</td>\n",
       "      <td>0.438286</td>\n",
       "      <td>0.398932</td>\n",
       "    </tr>\n",
       "    <tr>\n",
       "      <th>6</th>\n",
       "      <td>Gradient Boosting</td>\n",
       "      <td>Passage au log de la variable cible</td>\n",
       "      <td>1.069047e+00</td>\n",
       "      <td>1.409123e+00</td>\n",
       "      <td>0.441779</td>\n",
       "      <td>0.432842</td>\n",
       "    </tr>\n",
       "  </tbody>\n",
       "</table>\n",
       "</div>"
      ],
      "text/plain": [
       "              Modèle                                  Cas  Score_RMSE_test  \\\n",
       "0    Dummy Regressor                Premières prédictions     1.111780e+07   \n",
       "1            RidgeCV                Premières prédictions     8.808769e+06   \n",
       "2                RFR                Premières prédictions     7.220680e+06   \n",
       "3  Gradient Boosting                Premières prédictions     7.439378e+06   \n",
       "4            RidgeCV  Passage au log de la variable cible     1.251702e+00   \n",
       "5                RFR  Passage au log de la variable cible     1.072386e+00   \n",
       "6  Gradient Boosting  Passage au log de la variable cible     1.069047e+00   \n",
       "\n",
       "   Score_RMSE_train  Score_r2_test  Score_r2_train  \n",
       "0      1.724832e+07      -0.007317        0.000000  \n",
       "1      1.380202e+07       0.367648        0.359687  \n",
       "2      9.844333e+06       0.575102        0.674254  \n",
       "3      8.866175e+06       0.548974        0.735772  \n",
       "4      1.628812e+00       0.234730        0.242211  \n",
       "5      1.450636e+00       0.438286        0.398932  \n",
       "6      1.409123e+00       0.441779        0.432842  "
      ]
     },
     "execution_count": 40,
     "metadata": {},
     "output_type": "execute_result"
    }
   ],
   "source": [
    "results"
   ]
  },
  {
   "cell_type": "markdown",
   "id": "185a8126",
   "metadata": {},
   "source": [
    "### Le passage au log de la variable cible réduit l'erreur RMSE (c'est normal car la RMSE s’exprime dans la même unité que la variable à prédire ) et réduit le R2 \n",
    "on décide de ne pas passer au log pour la variable cible"
   ]
  },
  {
   "cell_type": "code",
   "execution_count": 41,
   "id": "9537de70",
   "metadata": {},
   "outputs": [
    {
     "data": {
      "image/png": "[encoded data removed]",
      "text/plain": [
       "<Figure size 1152x864 with 2 Axes>"
      ]
     },
     "metadata": {
      "needs_background": "light"
     },
     "output_type": "display_data"
    }
   ],
   "source": [
    "#On affiche un histogramme pour regarder la distribution de la variable cible\n",
    "col_histo = ['SiteEnergyUseWN(kBtu)','SiteEnergyUseWN(kBtu)_log']\n",
    "df_histo = df.loc[:,col_histo]\n",
    "values_histo = df_histo.values\n",
    "\n",
    "fig = plt.figure(constrained_layout=True,figsize=(16, 12))\n",
    "\n",
    "for feat_idx in range(values_histo.shape[1]):\n",
    "    ax = fig.add_subplot(5,6, (feat_idx+1))\n",
    "    h = ax.hist(values_histo[:, feat_idx], \n",
    "                bins=30,\n",
    "                color='steelblue',\n",
    "                density=True,\n",
    "                edgecolor='none')\n",
    "    \n",
    "    ax.set_title(df_histo.columns[feat_idx], fontsize=12)\n",
    "    plt.xticks(rotation=45, ha='right')"
   ]
  },
  {
   "cell_type": "markdown",
   "id": "115b9e7d",
   "metadata": {},
   "source": [
    "# Troisième essai de predictions : passage au log des features asymétriques"
   ]
  },
  {
   "cell_type": "code",
   "execution_count": 42,
   "id": "1c8727b4",
   "metadata": {},
   "outputs": [],
   "source": [
    "#on supprime l'autre variable de prediction qu'on va predire dans l'autre notebook\n",
    "# et les variables qui nous semble pas pertinentes\n",
    "\n",
    "df_3eme_essai = df.drop(['TotalGHGEmissions',\n",
    "                         'TotalGHGEmissions_log',\n",
    "                         'ENERGYSTARScore',\n",
    "                         'Electricity_ratio',\n",
    "                         'Steam_ratio', \n",
    "                         'NaturalGas_ratio',\n",
    "                         'NumberofBuildings',\n",
    "                         'NumberofFloors',\n",
    "                         'NumberofBuildings_log',\n",
    "                         'NumberofFloors_log',\n",
    "                         #'PropertyGFATotal_log',\n",
    "                         'PropertyGFATotal',\n",
    "                         'PropertyGFAParking',\n",
    "                         'PropertyGFAParking_log',\n",
    "                          'PropertyGFABuilding(s)',\n",
    "                         #'PropertyGFABuilding(s)_log',\n",
    "                         'SiteEnergyUseWN(kBtu)_log',\n",
    "                        ] \n",
    "                        #+ columns_PrimaryPropertyType\n",
    "                        + columns_PropertyUse_ratio \n",
    "                        , axis=1)"
   ]
  },
  {
   "cell_type": "code",
   "execution_count": 43,
   "id": "4ce45590",
   "metadata": {},
   "outputs": [
    {
     "data": {
      "text/plain": [
       "Index(['Latitude', 'Longitude', 'YearBuilt', 'SiteEnergyUseWN(kBtu)',\n",
       "       'BuildingType_Campus', 'BuildingType_NonResidential',\n",
       "       'BuildingType_Nonresidential COS', 'BuildingType_Nonresidential WA',\n",
       "       'BuildingType_SPS-District K-12',\n",
       "       'PrimaryPropertyType_Distribution Center',\n",
       "       'PrimaryPropertyType_Hospital', 'PrimaryPropertyType_Hotel',\n",
       "       'PrimaryPropertyType_K-12 School', 'PrimaryPropertyType_Laboratory',\n",
       "       'PrimaryPropertyType_Large Office',\n",
       "       'PrimaryPropertyType_Medical Office',\n",
       "       'PrimaryPropertyType_Mixed Use Property', 'PrimaryPropertyType_Other',\n",
       "       'PrimaryPropertyType_Refrigerated Warehouse',\n",
       "       'PrimaryPropertyType_Residence Hall', 'PrimaryPropertyType_Restaurant',\n",
       "       'PrimaryPropertyType_Retail Store',\n",
       "       'PrimaryPropertyType_Self-Storage Facility',\n",
       "       'PrimaryPropertyType_Senior Care Community',\n",
       "       'PrimaryPropertyType_Small- and Mid-Sized Office',\n",
       "       'PrimaryPropertyType_Supermarket / Grocery Store',\n",
       "       'PrimaryPropertyType_University', 'PrimaryPropertyType_Warehouse',\n",
       "       'PrimaryPropertyType_Worship Facility', 'Neighborhood_BALLARD',\n",
       "       'Neighborhood_Ballard', 'Neighborhood_CENTRAL', 'Neighborhood_Central',\n",
       "       'Neighborhood_DELRIDGE', 'Neighborhood_DOWNTOWN',\n",
       "       'Neighborhood_Delridge', 'Neighborhood_EAST',\n",
       "       'Neighborhood_GREATER DUWAMISH', 'Neighborhood_LAKE UNION',\n",
       "       'Neighborhood_MAGNOLIA / QUEEN ANNE', 'Neighborhood_NORTH',\n",
       "       'Neighborhood_NORTHEAST', 'Neighborhood_NORTHWEST',\n",
       "       'Neighborhood_North', 'Neighborhood_Northwest',\n",
       "       'Neighborhood_SOUTHEAST', 'Neighborhood_SOUTHWEST',\n",
       "       'PropertyGFATotal_log', 'PropertyGFABuilding(s)_log'],\n",
       "      dtype='object')"
      ]
     },
     "execution_count": 43,
     "metadata": {},
     "output_type": "execute_result"
    }
   ],
   "source": [
    "df_3eme_essai.columns"
   ]
  },
  {
   "cell_type": "markdown",
   "id": "fd5ea9cb",
   "metadata": {},
   "source": [
    "### On sépare la variable cible et les features "
   ]
  },
  {
   "cell_type": "code",
   "execution_count": 44,
   "id": "7bbb383d",
   "metadata": {},
   "outputs": [],
   "source": [
    "X3 = df_3eme_essai.drop(['SiteEnergyUseWN(kBtu)'], axis=1)\n",
    "y3 = df_3eme_essai['SiteEnergyUseWN(kBtu)']"
   ]
  },
  {
   "cell_type": "markdown",
   "id": "208c3e7a",
   "metadata": {},
   "source": [
    "### On sépare les données d'entrainement et de test et on standardise les données numérique"
   ]
  },
  {
   "cell_type": "code",
   "execution_count": 45,
   "id": "60670bf4",
   "metadata": {},
   "outputs": [],
   "source": [
    "# On separe les données d'entrainement et de test\n",
    "X_train, X_test, y_train, y_test = model_selection.train_test_split(X3, y3, test_size=0.3, random_state = 123) # 30% des données dans le jeu de test\n",
    "\n",
    "#On standardise les données \n",
    "standardScaler = StandardScaler()\n",
    "standardScaler.fit(X_train)\n",
    "\n",
    "X_train_std = pd.DataFrame(data=standardScaler.transform(X_train),index=X_train.index,columns=X_train.columns)\n",
    "X_test_std = pd.DataFrame(data=standardScaler.transform(X_test),index=X_test.index,columns=X_test.columns)"
   ]
  },
  {
   "cell_type": "markdown",
   "id": "5958cc92",
   "metadata": {},
   "source": [
    "### Regression Regularisée : Ridge"
   ]
  },
  {
   "cell_type": "code",
   "execution_count": 46,
   "id": "13c54249",
   "metadata": {},
   "outputs": [
    {
     "data": {
      "text/plain": [
       "RidgeCV(alphas=array([1.0e-03, 1.0e-02, 1.0e-01, 3.0e-01, 7.0e-01, 1.0e+00, 1.0e+01,\n",
       "       2.0e+01, 3.0e+01, 5.0e+01, 1.2e+02, 1.3e+02, 1.4e+02, 1.5e+02,\n",
       "       2.0e+02, 3.0e+02, 3.5e+02, 4.0e+02]),\n",
       "        scoring='r2')"
      ]
     },
     "execution_count": 46,
     "metadata": {},
     "output_type": "execute_result"
    }
   ],
   "source": [
    "#l'objectif est de biaiser un peu la prédiction, afin de diminuer l'erreur standard \n",
    "# on cherche le coefficient de regularisation alpha adapté\n",
    "#on va tester un certain nombre de coefficients pour trouver celui qui est optimal\n",
    "alpha_ridge = (0.001, 0.01, 0.1, 0.3, 0.7, 1, 10, 20, 30, 50,120, 130,140,150,200, 300, 350, 400)\n",
    "\n",
    "ridge_reg = RidgeCV(alphas = alpha_ridge, \n",
    "                   scoring = 'r2')\n",
    "\n",
    "ridge_reg.fit(X_train_std, y_train)"
   ]
  },
  {
   "cell_type": "code",
   "execution_count": 47,
   "id": "104d0b1a",
   "metadata": {},
   "outputs": [
    {
     "name": "stdout",
     "output_type": "stream",
     "text": [
      "alpha sélectionné par c-v : 200.0\n",
      "score train : 0.4850781889017354\n",
      "score test : 0.5410561141957064\n",
      "rmse train : 12377055.834782802\n",
      "rmse test : 7504393.656308594\n"
     ]
    }
   ],
   "source": [
    "#Alpha choisi par Cross Validation\n",
    "print('alpha sélectionné par c-v :', ridge_reg.alpha_)\n",
    "\n",
    "# Score R2\n",
    "print('score train :', ridge_reg.score(X_train_std, y_train))\n",
    "print('score test :', ridge_reg.score(X_test_std, y_test))\n",
    "\n",
    "#Score RMSE\n",
    "print('rmse train :', np.sqrt(mean_squared_error(ridge_reg.predict(X_train_std), y_train)))\n",
    "print('rmse test :', np.sqrt(mean_squared_error(ridge_reg.predict(X_test_std), y_test)))"
   ]
  },
  {
   "cell_type": "code",
   "execution_count": 48,
   "id": "59939f2d",
   "metadata": {},
   "outputs": [],
   "source": [
    "# On ajoute les scores au dataframe results\n",
    "results = add_results(ridge_reg, 'RidgeCV',  \"passage au log des features asymétriques\", results)"
   ]
  },
  {
   "cell_type": "code",
   "execution_count": 49,
   "id": "46f47c09",
   "metadata": {},
   "outputs": [
    {
     "data": {
      "image/png": "[encoded data removed]",
      "text/plain": [
       "<Figure size 720x576 with 1 Axes>"
      ]
     },
     "metadata": {
      "needs_background": "light"
     },
     "output_type": "display_data"
    }
   ],
   "source": [
    "# on affiche les variables les plus importantes du modèle, relativement aux coefficients calculés\n",
    "coef = pd.Series(ridge_reg.coef_, index = X_train.columns)\n",
    "\n",
    "imp_coef = pd.concat([coef.sort_values(ascending=False).head(10),\n",
    "                     coef.sort_values().head(10)])\n",
    "\n",
    "plt.figure(figsize= (10,8))\n",
    "imp_coef.plot(kind = \"barh\")\n",
    "plt.title(\"Coefficients in the Ridge Model\");"
   ]
  },
  {
   "cell_type": "markdown",
   "id": "adc21b56",
   "metadata": {},
   "source": [
    "### Random Forest Regressor "
   ]
  },
  {
   "cell_type": "code",
   "execution_count": 50,
   "id": "32297387",
   "metadata": {},
   "outputs": [],
   "source": [
    "#on va tester un certain nombre de paramètres pour trouver celui qui est optimal\n",
    "\n",
    "parameters = {'n_estimators' : [5,10,20,25,30,50,90,100,200], #nombre d'arbres de décision\n",
    "              'min_samples_leaf' : [1,2,3,4,5,10],            #nombre de feuilles minimales dans un noeud\n",
    "              'max_features': ['auto', 'sqrt']                #nombre de features observées pour chaque arbre\n",
    "}"
   ]
  },
  {
   "cell_type": "code",
   "execution_count": 51,
   "id": "35a503a2",
   "metadata": {},
   "outputs": [
    {
     "data": {
      "text/plain": [
       "GridSearchCV(cv=5, estimator=RandomForestRegressor(n_jobs=-1, random_state=123),\n",
       "             n_jobs=-1,\n",
       "             param_grid={'max_features': ['auto', 'sqrt'],\n",
       "                         'min_samples_leaf': [1, 2, 3, 4, 5, 10],\n",
       "                         'n_estimators': [5, 10, 20, 25, 30, 50, 90, 100, 200]},\n",
       "             scoring='r2')"
      ]
     },
     "execution_count": 51,
     "metadata": {},
     "output_type": "execute_result"
    }
   ],
   "source": [
    "# Créer un regresseur Random Forest Regressor avec recherche d'hyperparamètre par validation croisée\n",
    "rfr_search = model_selection.GridSearchCV(RandomForestRegressor(n_jobs=-1,random_state=123),\n",
    "                                          param_grid = parameters,\n",
    "                                          scoring='r2',\n",
    "                                          cv=5,\n",
    "                                          n_jobs=-1)\n",
    "\n",
    "# Optimiser ce regresseur sur le jeu d'entraînement\n",
    "rfr_search.fit(X_train_std, y_train)"
   ]
  },
  {
   "cell_type": "code",
   "execution_count": 52,
   "id": "bedeef00",
   "metadata": {},
   "outputs": [
    {
     "name": "stdout",
     "output_type": "stream",
     "text": [
      "les meilleurs hyperparamètres pour le RFR sont :{'max_features': 'sqrt', 'min_samples_leaf': 3, 'n_estimators': 10}\n",
      "score train : 0.5957074731459803\n",
      "score test : 0.5511566912383368\n",
      "rmse train : 10967169.683684161\n",
      "rmse test : 7421354.735534074\n"
     ]
    }
   ],
   "source": [
    "#Afficher le(s) hyperparamètre(s) optimaux\n",
    "print(\"les meilleurs hyperparamètres pour le RFR sont :{}\".format(rfr_search.best_params_))\n",
    "\n",
    "# Scores R2\n",
    "print('score train :', rfr_search.score(X_train_std, y_train))\n",
    "print('score test :', rfr_search.score(X_test_std, y_test))\n",
    "\n",
    "# Scores RMSE\n",
    "print('rmse train :', np.sqrt(mean_squared_error(rfr_search.predict(X_train_std), y_train)))\n",
    "print('rmse test :', np.sqrt(mean_squared_error(rfr_search.predict(X_test_std), y_test)))"
   ]
  },
  {
   "cell_type": "code",
   "execution_count": 53,
   "id": "0eaf44c1",
   "metadata": {},
   "outputs": [],
   "source": [
    "# On ajoute les scores au dataframe results\n",
    "results = add_results(rfr_search, 'RFR', \"passage au log des features asymétriques\", results)"
   ]
  },
  {
   "cell_type": "code",
   "execution_count": 54,
   "id": "3afe0726",
   "metadata": {},
   "outputs": [
    {
     "data": {
      "image/png": "[encoded data removed]",
      "text/plain": [
       "<Figure size 576x576 with 1 Axes>"
      ]
     },
     "metadata": {
      "needs_background": "light"
     },
     "output_type": "display_data"
    }
   ],
   "source": [
    "#On affiche les variables les plus importantes dans le modele \n",
    "coefficients = abs(rfr_search.best_estimator_.feature_importances_)\n",
    "liste_coefs_rfr = pd.concat((pd.DataFrame(X_train.columns, columns = ['Variable']), \n",
    "                      pd.DataFrame(coefficients, columns = ['Coefficient'])), axis = 1).sort_values(by='Coefficient', ascending = False)\n",
    "\n",
    "\n",
    "plt.figure(figsize=(8,8))\n",
    "plt.title('RandomForestRegressor - Importance des 20 premières Features')\n",
    "sns.barplot(y = liste_coefs_rfr['Variable'].head(20),\n",
    "            x = liste_coefs_rfr['Coefficient'].head(20))\n",
    "plt.show()"
   ]
  },
  {
   "cell_type": "markdown",
   "id": "ce49fb99",
   "metadata": {},
   "source": [
    "### Gradient Boosting Regressor"
   ]
  },
  {
   "cell_type": "code",
   "execution_count": 55,
   "id": "73778f40",
   "metadata": {},
   "outputs": [
    {
     "data": {
      "text/plain": [
       "GridSearchCV(cv=5, estimator=GradientBoostingRegressor(random_state=123),\n",
       "             n_jobs=-1,\n",
       "             param_grid={'learning_rate': [0.01, 0.05, 0.1, 0.5, 1, 0.5],\n",
       "                         'max_depth': [3, 4, 5],\n",
       "                         'max_features': ['log2', 'sqrt'],\n",
       "                         'min_samples_leaf': [2, 4, 5, 6],\n",
       "                         'n_estimators': [5, 10, 15, 20, 100, 500],\n",
       "                         'subsample': [0.6, 0.7, 0.8]},\n",
       "             scoring='r2')"
      ]
     },
     "execution_count": 55,
     "metadata": {},
     "output_type": "execute_result"
    }
   ],
   "source": [
    "# Fixer les valeurs des hyperparamètres à tester\n",
    "parameters = {\"max_features\":[\"log2\",\"sqrt\"],\n",
    "              'learning_rate': [0.01,0.05,0.1,0.5,1,0.5], # eta value\n",
    "              'max_depth': [3,4,5],\n",
    "              'min_samples_leaf': [2,4,5,6],\n",
    "              'subsample': [0.6,0.7,0.8],\n",
    "              'n_estimators': [5,10,15,20,100,500], #number of trees, change it to 1000 for better results\n",
    "}\n",
    "\n",
    "\n",
    "# Créer un regresseur XGBoost avec recherche d'hyperparamètre par validation croisée\n",
    "gbr_grid = model_selection.GridSearchCV(GradientBoostingRegressor(random_state = 123),\n",
    "                                        param_grid = parameters,\n",
    "                                        scoring = 'r2',\n",
    "                                        cv = 5,\n",
    "                                        n_jobs = -1)\n",
    "\n",
    "# Optimiser ce regresseur sur le jeu d'entraînement\n",
    "gbr_grid.fit(X_train_std, y_train)"
   ]
  },
  {
   "cell_type": "code",
   "execution_count": 56,
   "id": "ae4abd50",
   "metadata": {},
   "outputs": [
    {
     "name": "stdout",
     "output_type": "stream",
     "text": [
      "les meilleurs hyperparamètres pour le GBR sont :{'learning_rate': 0.05, 'max_depth': 3, 'max_features': 'log2', 'min_samples_leaf': 2, 'n_estimators': 100, 'subsample': 0.8}\n"
     ]
    }
   ],
   "source": [
    "# Afficher le(s) hyperparamètre(s) optimaux\n",
    "print(\"les meilleurs hyperparamètres pour le GBR sont :{}\".format(gbr_grid.best_params_))\n"
   ]
  },
  {
   "cell_type": "code",
   "execution_count": 57,
   "id": "99dcdde6",
   "metadata": {},
   "outputs": [
    {
     "data": {
      "image/png": "[encoded data removed]",
      "text/plain": [
       "<Figure size 576x576 with 1 Axes>"
      ]
     },
     "metadata": {
      "needs_background": "light"
     },
     "output_type": "display_data"
    }
   ],
   "source": [
    "#On affiche les variables les plus importantes dans le modele \n",
    "\n",
    "coefficients = abs(gbr_grid.best_estimator_.feature_importances_)\n",
    "liste_coefs_gbr = pd.concat((pd.DataFrame(X_train.columns, columns = ['Variable']), \n",
    "                      pd.DataFrame(coefficients, columns = ['Coefficient'])), axis = 1).sort_values(by='Coefficient', ascending = False)\n",
    "\n",
    "\n",
    "plt.figure(figsize=(8,8))\n",
    "plt.title('Gradient Boosting Regressor - Importance des 20 premières Features')\n",
    "sns.barplot(y = liste_coefs_gbr['Variable'].head(20),\n",
    "            x = liste_coefs_gbr['Coefficient'].head(20))\n",
    "plt.show()"
   ]
  },
  {
   "cell_type": "code",
   "execution_count": 58,
   "id": "4bdbcd62",
   "metadata": {},
   "outputs": [],
   "source": [
    "# On ajoute les scores au dataframe results\n",
    "results = add_results(gbr_grid, 'Gradient Boosting', \"passage au log des features asymétriques\", results)"
   ]
  },
  {
   "cell_type": "markdown",
   "id": "e840f084",
   "metadata": {},
   "source": [
    "### Résultats du 3eme essai"
   ]
  },
  {
   "cell_type": "code",
   "execution_count": 59,
   "id": "fb619b2f",
   "metadata": {},
   "outputs": [
    {
     "data": {
      "text/html": [
       "<div>\n",
       "<style scoped>\n",
       "    .dataframe tbody tr th:only-of-type {\n",
       "        vertical-align: middle;\n",
       "    }\n",
       "\n",
       "    .dataframe tbody tr th {\n",
       "        vertical-align: top;\n",
       "    }\n",
       "\n",
       "    .dataframe thead th {\n",
       "        text-align: right;\n",
       "    }\n",
       "</style>\n",
       "<table border=\"1\" class=\"dataframe\">\n",
       "  <thead>\n",
       "    <tr style=\"text-align: right;\">\n",
       "      <th></th>\n",
       "      <th>Modèle</th>\n",
       "      <th>Cas</th>\n",
       "      <th>Score_RMSE_test</th>\n",
       "      <th>Score_RMSE_train</th>\n",
       "      <th>Score_r2_test</th>\n",
       "      <th>Score_r2_train</th>\n",
       "    </tr>\n",
       "  </thead>\n",
       "  <tbody>\n",
       "    <tr>\n",
       "      <th>0</th>\n",
       "      <td>Dummy Regressor</td>\n",
       "      <td>Premières prédictions</td>\n",
       "      <td>1.111780e+07</td>\n",
       "      <td>1.724832e+07</td>\n",
       "      <td>-0.007317</td>\n",
       "      <td>0.000000</td>\n",
       "    </tr>\n",
       "    <tr>\n",
       "      <th>1</th>\n",
       "      <td>RidgeCV</td>\n",
       "      <td>Premières prédictions</td>\n",
       "      <td>8.808769e+06</td>\n",
       "      <td>1.380202e+07</td>\n",
       "      <td>0.367648</td>\n",
       "      <td>0.359687</td>\n",
       "    </tr>\n",
       "    <tr>\n",
       "      <th>2</th>\n",
       "      <td>RFR</td>\n",
       "      <td>Premières prédictions</td>\n",
       "      <td>7.220680e+06</td>\n",
       "      <td>9.844333e+06</td>\n",
       "      <td>0.575102</td>\n",
       "      <td>0.674254</td>\n",
       "    </tr>\n",
       "    <tr>\n",
       "      <th>3</th>\n",
       "      <td>Gradient Boosting</td>\n",
       "      <td>Premières prédictions</td>\n",
       "      <td>7.439378e+06</td>\n",
       "      <td>8.866175e+06</td>\n",
       "      <td>0.548974</td>\n",
       "      <td>0.735772</td>\n",
       "    </tr>\n",
       "    <tr>\n",
       "      <th>4</th>\n",
       "      <td>RidgeCV</td>\n",
       "      <td>Passage au log de la variable cible</td>\n",
       "      <td>1.251702e+00</td>\n",
       "      <td>1.628812e+00</td>\n",
       "      <td>0.234730</td>\n",
       "      <td>0.242211</td>\n",
       "    </tr>\n",
       "    <tr>\n",
       "      <th>5</th>\n",
       "      <td>RFR</td>\n",
       "      <td>Passage au log de la variable cible</td>\n",
       "      <td>1.072386e+00</td>\n",
       "      <td>1.450636e+00</td>\n",
       "      <td>0.438286</td>\n",
       "      <td>0.398932</td>\n",
       "    </tr>\n",
       "    <tr>\n",
       "      <th>6</th>\n",
       "      <td>Gradient Boosting</td>\n",
       "      <td>Passage au log de la variable cible</td>\n",
       "      <td>1.069047e+00</td>\n",
       "      <td>1.409123e+00</td>\n",
       "      <td>0.441779</td>\n",
       "      <td>0.432842</td>\n",
       "    </tr>\n",
       "    <tr>\n",
       "      <th>7</th>\n",
       "      <td>RidgeCV</td>\n",
       "      <td>passage au log des features asymétriques</td>\n",
       "      <td>7.504394e+06</td>\n",
       "      <td>1.237706e+07</td>\n",
       "      <td>0.541056</td>\n",
       "      <td>0.485078</td>\n",
       "    </tr>\n",
       "    <tr>\n",
       "      <th>8</th>\n",
       "      <td>RFR</td>\n",
       "      <td>passage au log des features asymétriques</td>\n",
       "      <td>7.421355e+06</td>\n",
       "      <td>1.096717e+07</td>\n",
       "      <td>0.551157</td>\n",
       "      <td>0.595707</td>\n",
       "    </tr>\n",
       "    <tr>\n",
       "      <th>9</th>\n",
       "      <td>Gradient Boosting</td>\n",
       "      <td>passage au log des features asymétriques</td>\n",
       "      <td>7.248482e+06</td>\n",
       "      <td>9.863902e+06</td>\n",
       "      <td>0.571824</td>\n",
       "      <td>0.672958</td>\n",
       "    </tr>\n",
       "  </tbody>\n",
       "</table>\n",
       "</div>"
      ],
      "text/plain": [
       "              Modèle                                       Cas  \\\n",
       "0    Dummy Regressor                     Premières prédictions   \n",
       "1            RidgeCV                     Premières prédictions   \n",
       "2                RFR                     Premières prédictions   \n",
       "3  Gradient Boosting                     Premières prédictions   \n",
       "4            RidgeCV       Passage au log de la variable cible   \n",
       "5                RFR       Passage au log de la variable cible   \n",
       "6  Gradient Boosting       Passage au log de la variable cible   \n",
       "7            RidgeCV  passage au log des features asymétriques   \n",
       "8                RFR  passage au log des features asymétriques   \n",
       "9  Gradient Boosting  passage au log des features asymétriques   \n",
       "\n",
       "   Score_RMSE_test  Score_RMSE_train  Score_r2_test  Score_r2_train  \n",
       "0     1.111780e+07      1.724832e+07      -0.007317        0.000000  \n",
       "1     8.808769e+06      1.380202e+07       0.367648        0.359687  \n",
       "2     7.220680e+06      9.844333e+06       0.575102        0.674254  \n",
       "3     7.439378e+06      8.866175e+06       0.548974        0.735772  \n",
       "4     1.251702e+00      1.628812e+00       0.234730        0.242211  \n",
       "5     1.072386e+00      1.450636e+00       0.438286        0.398932  \n",
       "6     1.069047e+00      1.409123e+00       0.441779        0.432842  \n",
       "7     7.504394e+06      1.237706e+07       0.541056        0.485078  \n",
       "8     7.421355e+06      1.096717e+07       0.551157        0.595707  \n",
       "9     7.248482e+06      9.863902e+06       0.571824        0.672958  "
      ]
     },
     "execution_count": 59,
     "metadata": {},
     "output_type": "execute_result"
    }
   ],
   "source": [
    "results"
   ]
  },
  {
   "cell_type": "markdown",
   "id": "a3ae38a0",
   "metadata": {},
   "source": [
    "#### Le passage au log de la variable cible réduit l'erreur RMSE mais réduit le R2 \n",
    "On sait que le R2 score est très sensible aux outliers donc on va essayer une autre méthode de scaling le RobustScaler qui est robuste face aux outliers\n"
   ]
  },
  {
   "cell_type": "markdown",
   "id": "47b88d29",
   "metadata": {},
   "source": [
    "# 4eme essai : changement de méthode de scaling\n",
    "On change de méthode de scaling "
   ]
  },
  {
   "cell_type": "code",
   "execution_count": 60,
   "id": "063a23a8",
   "metadata": {},
   "outputs": [],
   "source": [
    "df_4eme_essai = df.drop(['TotalGHGEmissions',\n",
    "                         'TotalGHGEmissions_log',\n",
    "                         'ENERGYSTARScore',\n",
    "                         'Electricity_ratio',\n",
    "                         'Steam_ratio', \n",
    "                         'NaturalGas_ratio',\n",
    "                         'NumberofBuildings',\n",
    "                         'NumberofFloors',\n",
    "                         'NumberofBuildings_log',\n",
    "                         'NumberofFloors_log',\n",
    "                         #'PropertyGFATotal_log',\n",
    "                         'PropertyGFATotal',\n",
    "                         'PropertyGFAParking',\n",
    "                         'PropertyGFAParking_log',\n",
    "                          'PropertyGFABuilding(s)',\n",
    "                         #'PropertyGFABuilding(s)_log',\n",
    "                         'SiteEnergyUseWN(kBtu)_log',\n",
    "                        ] \n",
    "                        #+ columns_PrimaryPropertyType\n",
    "                        + columns_PropertyUse_ratio \n",
    "                        , axis=1)"
   ]
  },
  {
   "cell_type": "markdown",
   "id": "dd08b999",
   "metadata": {},
   "source": [
    "### On sépare la variable cible et les features"
   ]
  },
  {
   "cell_type": "code",
   "execution_count": 61,
   "id": "a547c699",
   "metadata": {},
   "outputs": [],
   "source": [
    "X4 = df_4eme_essai.drop(['SiteEnergyUseWN(kBtu)'], axis=1)\n",
    "y4 = df_4eme_essai['SiteEnergyUseWN(kBtu)']"
   ]
  },
  {
   "cell_type": "markdown",
   "id": "53e89916",
   "metadata": {},
   "source": [
    "### On sépare les données d'entrainement et de test et on standardise les données numérique"
   ]
  },
  {
   "cell_type": "code",
   "execution_count": 62,
   "id": "38c40fc0",
   "metadata": {},
   "outputs": [],
   "source": [
    "# On separe les données d'entrainement et de test\n",
    "X_train, X_test, y_train, y_test = model_selection.train_test_split(X4, y4, test_size=0.3, random_state = 123) # 30% des données dans le jeu de test\n",
    "\n",
    "#On standardise les données \n",
    "robustscaler = RobustScaler()\n",
    "robustscaler.fit(X_train)\n",
    "\n",
    "X_train_std = pd.DataFrame(data=robustscaler.transform(X_train),index=X_train.index,columns=X_train.columns)\n",
    "X_test_std = pd.DataFrame(data=robustscaler.transform(X_test),index=X_test.index,columns=X_test.columns)"
   ]
  },
  {
   "cell_type": "markdown",
   "id": "e4abf464",
   "metadata": {},
   "source": [
    "### Gradient Boosting Regressor"
   ]
  },
  {
   "cell_type": "code",
   "execution_count": 63,
   "id": "fa6cd94a",
   "metadata": {},
   "outputs": [
    {
     "data": {
      "text/plain": [
       "GridSearchCV(cv=5, estimator=GradientBoostingRegressor(random_state=123),\n",
       "             n_jobs=-1,\n",
       "             param_grid={'learning_rate': [0.01, 0.05, 0.1, 0.5, 1, 0.5],\n",
       "                         'max_depth': [3, 4, 5],\n",
       "                         'max_features': [None, 'log2', 'sqrt'],\n",
       "                         'min_samples_leaf': [1, 2, 4, 5, 6],\n",
       "                         'n_estimators': [5, 10, 15, 20, 100, 500],\n",
       "                         'subsample': [0.4, 0.6, 0.7, 0.8]},\n",
       "             scoring='r2')"
      ]
     },
     "execution_count": 63,
     "metadata": {},
     "output_type": "execute_result"
    }
   ],
   "source": [
    "# Fixer les valeurs des hyperparamètres à tester\n",
    "parameters = {\"max_features\":[None,\"log2\",\"sqrt\"],\n",
    "              'learning_rate': [0.01,0.05,0.1,0.5,1,0.5], # eta value\n",
    "              'max_depth': [3,4,5],\n",
    "              'min_samples_leaf': [1,2,4,5,6],\n",
    "              'subsample': [0.4,0.6,0.7,0.8],\n",
    "              'n_estimators': [5,10,15,20,100,500], #number of trees, change it to 1000 for better results\n",
    "}\n",
    "\n",
    "\n",
    "# Créer un regresseur XGBoost avec recherche d'hyperparamètre par validation croisée\n",
    "gbr_grid = model_selection.GridSearchCV(GradientBoostingRegressor(random_state=123),\n",
    "                                        param_grid = parameters,\n",
    "                                        scoring = 'r2',\n",
    "                                        cv = 5,\n",
    "                                        n_jobs = -1)\n",
    "\n",
    "# Optimiser ce regresseur sur le jeu d'entraînement\n",
    "gbr_grid.fit(X_train_std, y_train)"
   ]
  },
  {
   "cell_type": "code",
   "execution_count": 64,
   "id": "fd3bff04",
   "metadata": {},
   "outputs": [
    {
     "name": "stdout",
     "output_type": "stream",
     "text": [
      "les meilleurs hyperparamètres pour le GBR sont :{'learning_rate': 0.05, 'max_depth': 3, 'max_features': 'sqrt', 'min_samples_leaf': 1, 'n_estimators': 100, 'subsample': 0.7}\n",
      "score train : 0.7734692528540602\n",
      "score test : 0.6145305729484232\n",
      "rmse train : 8209378.597055259\n",
      "rmse test : 6877502.9065813925\n"
     ]
    }
   ],
   "source": [
    "# Afficher le(s) hyperparamètre(s) optimaux\n",
    "print(\"les meilleurs hyperparamètres pour le GBR sont :{}\".format(gbr_grid.best_params_))\n",
    "\n",
    "# Scores R2\n",
    "print('score train :', gbr_grid.score(X_train_std, y_train))\n",
    "print('score test :', gbr_grid.score(X_test_std, y_test))\n",
    "\n",
    "# Scores RMSE\n",
    "print('rmse train :', np.sqrt(mean_squared_error(gbr_grid.predict(X_train_std), y_train)))\n",
    "print('rmse test :', np.sqrt(mean_squared_error(gbr_grid.predict(X_test_std), y_test)))"
   ]
  },
  {
   "cell_type": "code",
   "execution_count": 65,
   "id": "6a24e453",
   "metadata": {},
   "outputs": [
    {
     "data": {
      "image/png": "[encoded data removed]",
      "text/plain": [
       "<Figure size 576x576 with 1 Axes>"
      ]
     },
     "metadata": {
      "needs_background": "light"
     },
     "output_type": "display_data"
    }
   ],
   "source": [
    "#On affiche les variables les plus importantes dans le modele \n",
    "\n",
    "coefficients = abs(gbr_grid.best_estimator_.feature_importances_)\n",
    "liste_coefs_gbr = pd.concat((pd.DataFrame(X_train.columns, columns = ['Variable']), \n",
    "                      pd.DataFrame(coefficients, columns = ['Coefficient'])), axis = 1).sort_values(by='Coefficient', ascending = False)\n",
    "\n",
    "\n",
    "plt.figure(figsize=(8,8))\n",
    "plt.title('Gradient Boosting Regressor - Importance des 20 premières Features')\n",
    "sns.barplot(y = liste_coefs_gbr['Variable'].head(20),\n",
    "            x = liste_coefs_gbr['Coefficient'].head(20))\n",
    "plt.show()"
   ]
  },
  {
   "cell_type": "code",
   "execution_count": 66,
   "id": "63208877",
   "metadata": {},
   "outputs": [],
   "source": [
    "# On ajoute les scores au dataframe results\n",
    "results = add_results(gbr_grid, 'Gradient Boosting', 'RobustScaler', results)"
   ]
  },
  {
   "cell_type": "markdown",
   "id": "643f7f63",
   "metadata": {},
   "source": [
    "### Résultat du 4ème essai"
   ]
  },
  {
   "cell_type": "code",
   "execution_count": 67,
   "id": "8a05dab5",
   "metadata": {},
   "outputs": [
    {
     "data": {
      "text/html": [
       "<div>\n",
       "<style scoped>\n",
       "    .dataframe tbody tr th:only-of-type {\n",
       "        vertical-align: middle;\n",
       "    }\n",
       "\n",
       "    .dataframe tbody tr th {\n",
       "        vertical-align: top;\n",
       "    }\n",
       "\n",
       "    .dataframe thead th {\n",
       "        text-align: right;\n",
       "    }\n",
       "</style>\n",
       "<table border=\"1\" class=\"dataframe\">\n",
       "  <thead>\n",
       "    <tr style=\"text-align: right;\">\n",
       "      <th></th>\n",
       "      <th>Modèle</th>\n",
       "      <th>Cas</th>\n",
       "      <th>Score_RMSE_test</th>\n",
       "      <th>Score_RMSE_train</th>\n",
       "      <th>Score_r2_test</th>\n",
       "      <th>Score_r2_train</th>\n",
       "    </tr>\n",
       "  </thead>\n",
       "  <tbody>\n",
       "    <tr>\n",
       "      <th>0</th>\n",
       "      <td>Dummy Regressor</td>\n",
       "      <td>Premières prédictions</td>\n",
       "      <td>1.111780e+07</td>\n",
       "      <td>1.724832e+07</td>\n",
       "      <td>-0.007317</td>\n",
       "      <td>0.000000</td>\n",
       "    </tr>\n",
       "    <tr>\n",
       "      <th>1</th>\n",
       "      <td>RidgeCV</td>\n",
       "      <td>Premières prédictions</td>\n",
       "      <td>8.808769e+06</td>\n",
       "      <td>1.380202e+07</td>\n",
       "      <td>0.367648</td>\n",
       "      <td>0.359687</td>\n",
       "    </tr>\n",
       "    <tr>\n",
       "      <th>2</th>\n",
       "      <td>RFR</td>\n",
       "      <td>Premières prédictions</td>\n",
       "      <td>7.220680e+06</td>\n",
       "      <td>9.844333e+06</td>\n",
       "      <td>0.575102</td>\n",
       "      <td>0.674254</td>\n",
       "    </tr>\n",
       "    <tr>\n",
       "      <th>3</th>\n",
       "      <td>Gradient Boosting</td>\n",
       "      <td>Premières prédictions</td>\n",
       "      <td>7.439378e+06</td>\n",
       "      <td>8.866175e+06</td>\n",
       "      <td>0.548974</td>\n",
       "      <td>0.735772</td>\n",
       "    </tr>\n",
       "    <tr>\n",
       "      <th>4</th>\n",
       "      <td>RidgeCV</td>\n",
       "      <td>Passage au log de la variable cible</td>\n",
       "      <td>1.251702e+00</td>\n",
       "      <td>1.628812e+00</td>\n",
       "      <td>0.234730</td>\n",
       "      <td>0.242211</td>\n",
       "    </tr>\n",
       "    <tr>\n",
       "      <th>5</th>\n",
       "      <td>RFR</td>\n",
       "      <td>Passage au log de la variable cible</td>\n",
       "      <td>1.072386e+00</td>\n",
       "      <td>1.450636e+00</td>\n",
       "      <td>0.438286</td>\n",
       "      <td>0.398932</td>\n",
       "    </tr>\n",
       "    <tr>\n",
       "      <th>6</th>\n",
       "      <td>Gradient Boosting</td>\n",
       "      <td>Passage au log de la variable cible</td>\n",
       "      <td>1.069047e+00</td>\n",
       "      <td>1.409123e+00</td>\n",
       "      <td>0.441779</td>\n",
       "      <td>0.432842</td>\n",
       "    </tr>\n",
       "    <tr>\n",
       "      <th>7</th>\n",
       "      <td>RidgeCV</td>\n",
       "      <td>passage au log des features asymétriques</td>\n",
       "      <td>7.504394e+06</td>\n",
       "      <td>1.237706e+07</td>\n",
       "      <td>0.541056</td>\n",
       "      <td>0.485078</td>\n",
       "    </tr>\n",
       "    <tr>\n",
       "      <th>8</th>\n",
       "      <td>RFR</td>\n",
       "      <td>passage au log des features asymétriques</td>\n",
       "      <td>7.421355e+06</td>\n",
       "      <td>1.096717e+07</td>\n",
       "      <td>0.551157</td>\n",
       "      <td>0.595707</td>\n",
       "    </tr>\n",
       "    <tr>\n",
       "      <th>9</th>\n",
       "      <td>Gradient Boosting</td>\n",
       "      <td>passage au log des features asymétriques</td>\n",
       "      <td>7.248482e+06</td>\n",
       "      <td>9.863902e+06</td>\n",
       "      <td>0.571824</td>\n",
       "      <td>0.672958</td>\n",
       "    </tr>\n",
       "    <tr>\n",
       "      <th>10</th>\n",
       "      <td>Gradient Boosting</td>\n",
       "      <td>RobustScaler</td>\n",
       "      <td>6.877503e+06</td>\n",
       "      <td>8.209379e+06</td>\n",
       "      <td>0.614531</td>\n",
       "      <td>0.773469</td>\n",
       "    </tr>\n",
       "  </tbody>\n",
       "</table>\n",
       "</div>"
      ],
      "text/plain": [
       "               Modèle                                       Cas  \\\n",
       "0     Dummy Regressor                     Premières prédictions   \n",
       "1             RidgeCV                     Premières prédictions   \n",
       "2                 RFR                     Premières prédictions   \n",
       "3   Gradient Boosting                     Premières prédictions   \n",
       "4             RidgeCV       Passage au log de la variable cible   \n",
       "5                 RFR       Passage au log de la variable cible   \n",
       "6   Gradient Boosting       Passage au log de la variable cible   \n",
       "7             RidgeCV  passage au log des features asymétriques   \n",
       "8                 RFR  passage au log des features asymétriques   \n",
       "9   Gradient Boosting  passage au log des features asymétriques   \n",
       "10  Gradient Boosting                              RobustScaler   \n",
       "\n",
       "    Score_RMSE_test  Score_RMSE_train  Score_r2_test  Score_r2_train  \n",
       "0      1.111780e+07      1.724832e+07      -0.007317        0.000000  \n",
       "1      8.808769e+06      1.380202e+07       0.367648        0.359687  \n",
       "2      7.220680e+06      9.844333e+06       0.575102        0.674254  \n",
       "3      7.439378e+06      8.866175e+06       0.548974        0.735772  \n",
       "4      1.251702e+00      1.628812e+00       0.234730        0.242211  \n",
       "5      1.072386e+00      1.450636e+00       0.438286        0.398932  \n",
       "6      1.069047e+00      1.409123e+00       0.441779        0.432842  \n",
       "7      7.504394e+06      1.237706e+07       0.541056        0.485078  \n",
       "8      7.421355e+06      1.096717e+07       0.551157        0.595707  \n",
       "9      7.248482e+06      9.863902e+06       0.571824        0.672958  \n",
       "10     6.877503e+06      8.209379e+06       0.614531        0.773469  "
      ]
     },
     "execution_count": 67,
     "metadata": {},
     "output_type": "execute_result"
    }
   ],
   "source": [
    "results"
   ]
  },
  {
   "cell_type": "markdown",
   "id": "9a0a06e0",
   "metadata": {},
   "source": [
    "# 5eme essai : optimisation du modèle\n",
    "On se concentre sur l'algorithme le plus performant et on optimise les hyperparamètres et les variables choisies"
   ]
  },
  {
   "cell_type": "code",
   "execution_count": 68,
   "id": "d258dcb8",
   "metadata": {},
   "outputs": [],
   "source": [
    "df_5eme_essai = df.drop(['TotalGHGEmissions',\n",
    "                         'TotalGHGEmissions_log',\n",
    "                         'ENERGYSTARScore',\n",
    "                         'Electricity_ratio',\n",
    "                         'Steam_ratio', \n",
    "                         'NaturalGas_ratio',\n",
    "                         'NumberofBuildings',\n",
    "                         'NumberofFloors',\n",
    "                         'NumberofBuildings_log',\n",
    "                         'NumberofFloors_log',\n",
    "                         'PropertyGFATotal_log',\n",
    "                        #'PropertyGFATotal',\n",
    "                         'PropertyGFAParking',\n",
    "                         'PropertyGFAParking_log',\n",
    "                          #'PropertyGFABuilding(s)',\n",
    "                         'PropertyGFABuilding(s)_log',\n",
    "                         'SiteEnergyUseWN(kBtu)_log',\n",
    "                         \n",
    "                        ] \n",
    "                        #+ columns_PrimaryPropertyType \n",
    "                        #+ columns_PropertyUse_ratio \n",
    "                        + columns_BuildingType\n",
    "                        + columns_Neighborhood\n",
    "                        , axis=1)"
   ]
  },
  {
   "cell_type": "code",
   "execution_count": 69,
   "id": "06da5940",
   "metadata": {},
   "outputs": [
    {
     "data": {
      "text/plain": [
       "Index(['Latitude', 'Longitude', 'YearBuilt', 'PropertyGFATotal',\n",
       "       'PropertyGFABuilding(s)', 'SiteEnergyUseWN(kBtu)',\n",
       "       'PropertyUse_ratio_Education', 'PropertyUse_ratio_Factory',\n",
       "       'PropertyUse_ratio_Government services', 'PropertyUse_ratio_Health',\n",
       "       'PropertyUse_ratio_Hotel/Senior Care/Housing',\n",
       "       'PropertyUse_ratio_Leisure', 'PropertyUse_ratio_No Use',\n",
       "       'PropertyUse_ratio_Office', 'PropertyUse_ratio_Other',\n",
       "       'PropertyUse_ratio_Parking', 'PropertyUse_ratio_Retail',\n",
       "       'PropertyUse_ratio_Swimming Pool',\n",
       "       'PropertyUse_ratio_Technology/Science',\n",
       "       'PrimaryPropertyType_Distribution Center',\n",
       "       'PrimaryPropertyType_Hospital', 'PrimaryPropertyType_Hotel',\n",
       "       'PrimaryPropertyType_K-12 School', 'PrimaryPropertyType_Laboratory',\n",
       "       'PrimaryPropertyType_Large Office',\n",
       "       'PrimaryPropertyType_Medical Office',\n",
       "       'PrimaryPropertyType_Mixed Use Property', 'PrimaryPropertyType_Other',\n",
       "       'PrimaryPropertyType_Refrigerated Warehouse',\n",
       "       'PrimaryPropertyType_Residence Hall', 'PrimaryPropertyType_Restaurant',\n",
       "       'PrimaryPropertyType_Retail Store',\n",
       "       'PrimaryPropertyType_Self-Storage Facility',\n",
       "       'PrimaryPropertyType_Senior Care Community',\n",
       "       'PrimaryPropertyType_Small- and Mid-Sized Office',\n",
       "       'PrimaryPropertyType_Supermarket / Grocery Store',\n",
       "       'PrimaryPropertyType_University', 'PrimaryPropertyType_Warehouse',\n",
       "       'PrimaryPropertyType_Worship Facility'],\n",
       "      dtype='object')"
      ]
     },
     "execution_count": 69,
     "metadata": {},
     "output_type": "execute_result"
    }
   ],
   "source": [
    "df_5eme_essai.columns"
   ]
  },
  {
   "cell_type": "markdown",
   "id": "1e134b25",
   "metadata": {},
   "source": [
    "### On sépare la variable cible et les features"
   ]
  },
  {
   "cell_type": "code",
   "execution_count": 70,
   "id": "103eab74",
   "metadata": {},
   "outputs": [],
   "source": [
    "X5= df_5eme_essai.drop(['SiteEnergyUseWN(kBtu)'], axis=1)\n",
    "y5= df_5eme_essai['SiteEnergyUseWN(kBtu)']"
   ]
  },
  {
   "cell_type": "markdown",
   "id": "67843ecc",
   "metadata": {},
   "source": [
    "### On sépare les données d'entrainement et de test et on standardise les données numérique"
   ]
  },
  {
   "cell_type": "code",
   "execution_count": 71,
   "id": "8822fab1",
   "metadata": {},
   "outputs": [],
   "source": [
    "# On separe les données d'entrainement et de test\n",
    "X_train, X_test, y_train, y_test = model_selection.train_test_split(X5, y5, test_size=0.3, random_state=123) # 30% des données dans le jeu de test\n",
    "\n",
    "#On standardise les données \n",
    "robustscaler = RobustScaler()\n",
    "robustscaler.fit(X_train)\n",
    "\n",
    "X_train_std = pd.DataFrame(data=robustscaler.transform(X_train),index=X_train.index,columns=X_train.columns)\n",
    "X_test_std = pd.DataFrame(data=robustscaler.transform(X_test),index=X_test.index,columns=X_test.columns)"
   ]
  },
  {
   "cell_type": "markdown",
   "id": "4046f46a",
   "metadata": {},
   "source": [
    "### Gradient Boosting Regressor"
   ]
  },
  {
   "cell_type": "code",
   "execution_count": 72,
   "id": "10e10036",
   "metadata": {},
   "outputs": [
    {
     "data": {
      "text/plain": [
       "GridSearchCV(cv=10, estimator=GradientBoostingRegressor(random_state=123),\n",
       "             n_jobs=-1,\n",
       "             param_grid={'learning_rate': [0.05, 0.1, 0.2],\n",
       "                         'max_depth': [1, 2, 3],\n",
       "                         'max_features': [None, 'log2', 'sqrt'],\n",
       "                         'min_samples_leaf': [1, 2, 5],\n",
       "                         'n_estimators': [10, 50, 200, 500, 700]},\n",
       "             scoring='r2')"
      ]
     },
     "execution_count": 72,
     "metadata": {},
     "output_type": "execute_result"
    }
   ],
   "source": [
    "# Fixer les valeurs des hyperparamètres à tester\n",
    "parameters = {\"max_features\":[None,\"log2\",\"sqrt\"],\n",
    "              'learning_rate': [0.05,0.1,0.2], # eta value\n",
    "              'max_depth': [1,2,3],\n",
    "              'min_samples_leaf': [1,2,5],\n",
    "              #'subsample': [0.7,0.8,0.9,1],\n",
    "              'n_estimators': [10,50,200,500,700], #number of trees, change it to 1000 for better results\n",
    "}\n",
    "\n",
    "\n",
    "# Créer un regresseur XGBoost avec recherche d'hyperparamètre par validation croisée\n",
    "gbr_grid = model_selection.GridSearchCV(GradientBoostingRegressor(random_state=123),\n",
    "                                        param_grid = parameters,\n",
    "                                        scoring = 'r2',\n",
    "                                        cv = 10,\n",
    "                                        n_jobs = -1)\n",
    "\n",
    "# Optimiser ce regresseur sur le jeu d'entraînement\n",
    "gbr_grid.fit(X_train_std, y_train)"
   ]
  },
  {
   "cell_type": "code",
   "execution_count": 73,
   "id": "140fbdee",
   "metadata": {},
   "outputs": [
    {
     "name": "stdout",
     "output_type": "stream",
     "text": [
      "les meilleurs hyperparamètres pour le GBR sont :{'learning_rate': 0.2, 'max_depth': 2, 'max_features': None, 'min_samples_leaf': 1, 'n_estimators': 50}\n",
      "score train : 0.9150290939172565\n",
      "score test : 0.6818930790403845\n",
      "rmse train : 5027844.42220082\n",
      "rmse test : 6247731.719461291\n"
     ]
    }
   ],
   "source": [
    "# Afficher le(s) hyperparamètre(s) optimaux\n",
    "print(\"les meilleurs hyperparamètres pour le GBR sont :{}\".format(gbr_grid.best_params_))\n",
    "\n",
    "# Scores R2\n",
    "print('score train :', gbr_grid.score(X_train_std, y_train))\n",
    "print('score test :', gbr_grid.score(X_test_std, y_test))\n",
    "\n",
    "# Scores RMSE\n",
    "print('rmse train :', np.sqrt(mean_squared_error(gbr_grid.predict(X_train_std), y_train)))\n",
    "print('rmse test :', np.sqrt(mean_squared_error(gbr_grid.predict(X_test_std), y_test)))"
   ]
  },
  {
   "cell_type": "code",
   "execution_count": 74,
   "id": "a6ca5646",
   "metadata": {},
   "outputs": [
    {
     "data": {
      "image/png": "[encoded data removed]",
      "text/plain": [
       "<Figure size 576x576 with 1 Axes>"
      ]
     },
     "metadata": {
      "needs_background": "light"
     },
     "output_type": "display_data"
    }
   ],
   "source": [
    "#On affiche les variables les plus importantes dans le modele \n",
    "\n",
    "coefficients = abs(gbr_grid.best_estimator_.feature_importances_)\n",
    "liste_coefs_gbr = pd.concat((pd.DataFrame(X_train.columns, columns = ['Variable']), \n",
    "                      pd.DataFrame(coefficients, columns = ['Coefficient'])), axis = 1).sort_values(by='Coefficient', ascending = False)\n",
    "\n",
    "\n",
    "plt.figure(figsize=(8,8))\n",
    "plt.title('Gradient Boosting Regressor - Importance des 20 premières Features')\n",
    "sns.barplot(y = liste_coefs_gbr['Variable'].head(20),\n",
    "            x = liste_coefs_gbr['Coefficient'].head(20))\n",
    "plt.show()"
   ]
  },
  {
   "cell_type": "code",
   "execution_count": 75,
   "id": "fd38de67",
   "metadata": {},
   "outputs": [],
   "source": [
    "# On ajoute les scores au dataframe results\n",
    "results = add_results(gbr_grid, 'Gradient Boosting', 'optimisation du modèle', results)"
   ]
  },
  {
   "cell_type": "markdown",
   "id": "b15b65b8",
   "metadata": {},
   "source": [
    "### Résultat du 5ème essai"
   ]
  },
  {
   "cell_type": "code",
   "execution_count": 76,
   "id": "8f624b83",
   "metadata": {},
   "outputs": [
    {
     "data": {
      "text/html": [
       "<div>\n",
       "<style scoped>\n",
       "    .dataframe tbody tr th:only-of-type {\n",
       "        vertical-align: middle;\n",
       "    }\n",
       "\n",
       "    .dataframe tbody tr th {\n",
       "        vertical-align: top;\n",
       "    }\n",
       "\n",
       "    .dataframe thead th {\n",
       "        text-align: right;\n",
       "    }\n",
       "</style>\n",
       "<table border=\"1\" class=\"dataframe\">\n",
       "  <thead>\n",
       "    <tr style=\"text-align: right;\">\n",
       "      <th></th>\n",
       "      <th>Modèle</th>\n",
       "      <th>Cas</th>\n",
       "      <th>Score_RMSE_test</th>\n",
       "      <th>Score_RMSE_train</th>\n",
       "      <th>Score_r2_test</th>\n",
       "      <th>Score_r2_train</th>\n",
       "    </tr>\n",
       "  </thead>\n",
       "  <tbody>\n",
       "    <tr>\n",
       "      <th>0</th>\n",
       "      <td>Dummy Regressor</td>\n",
       "      <td>Premières prédictions</td>\n",
       "      <td>1.111780e+07</td>\n",
       "      <td>1.724832e+07</td>\n",
       "      <td>-0.007317</td>\n",
       "      <td>0.000000</td>\n",
       "    </tr>\n",
       "    <tr>\n",
       "      <th>1</th>\n",
       "      <td>RidgeCV</td>\n",
       "      <td>Premières prédictions</td>\n",
       "      <td>8.808769e+06</td>\n",
       "      <td>1.380202e+07</td>\n",
       "      <td>0.367648</td>\n",
       "      <td>0.359687</td>\n",
       "    </tr>\n",
       "    <tr>\n",
       "      <th>2</th>\n",
       "      <td>RFR</td>\n",
       "      <td>Premières prédictions</td>\n",
       "      <td>7.220680e+06</td>\n",
       "      <td>9.844333e+06</td>\n",
       "      <td>0.575102</td>\n",
       "      <td>0.674254</td>\n",
       "    </tr>\n",
       "    <tr>\n",
       "      <th>3</th>\n",
       "      <td>Gradient Boosting</td>\n",
       "      <td>Premières prédictions</td>\n",
       "      <td>7.439378e+06</td>\n",
       "      <td>8.866175e+06</td>\n",
       "      <td>0.548974</td>\n",
       "      <td>0.735772</td>\n",
       "    </tr>\n",
       "    <tr>\n",
       "      <th>4</th>\n",
       "      <td>RidgeCV</td>\n",
       "      <td>Passage au log de la variable cible</td>\n",
       "      <td>1.251702e+00</td>\n",
       "      <td>1.628812e+00</td>\n",
       "      <td>0.234730</td>\n",
       "      <td>0.242211</td>\n",
       "    </tr>\n",
       "    <tr>\n",
       "      <th>5</th>\n",
       "      <td>RFR</td>\n",
       "      <td>Passage au log de la variable cible</td>\n",
       "      <td>1.072386e+00</td>\n",
       "      <td>1.450636e+00</td>\n",
       "      <td>0.438286</td>\n",
       "      <td>0.398932</td>\n",
       "    </tr>\n",
       "    <tr>\n",
       "      <th>6</th>\n",
       "      <td>Gradient Boosting</td>\n",
       "      <td>Passage au log de la variable cible</td>\n",
       "      <td>1.069047e+00</td>\n",
       "      <td>1.409123e+00</td>\n",
       "      <td>0.441779</td>\n",
       "      <td>0.432842</td>\n",
       "    </tr>\n",
       "    <tr>\n",
       "      <th>7</th>\n",
       "      <td>RidgeCV</td>\n",
       "      <td>passage au log des features asymétriques</td>\n",
       "      <td>7.504394e+06</td>\n",
       "      <td>1.237706e+07</td>\n",
       "      <td>0.541056</td>\n",
       "      <td>0.485078</td>\n",
       "    </tr>\n",
       "    <tr>\n",
       "      <th>8</th>\n",
       "      <td>RFR</td>\n",
       "      <td>passage au log des features asymétriques</td>\n",
       "      <td>7.421355e+06</td>\n",
       "      <td>1.096717e+07</td>\n",
       "      <td>0.551157</td>\n",
       "      <td>0.595707</td>\n",
       "    </tr>\n",
       "    <tr>\n",
       "      <th>9</th>\n",
       "      <td>Gradient Boosting</td>\n",
       "      <td>passage au log des features asymétriques</td>\n",
       "      <td>7.248482e+06</td>\n",
       "      <td>9.863902e+06</td>\n",
       "      <td>0.571824</td>\n",
       "      <td>0.672958</td>\n",
       "    </tr>\n",
       "    <tr>\n",
       "      <th>10</th>\n",
       "      <td>Gradient Boosting</td>\n",
       "      <td>RobustScaler</td>\n",
       "      <td>6.877503e+06</td>\n",
       "      <td>8.209379e+06</td>\n",
       "      <td>0.614531</td>\n",
       "      <td>0.773469</td>\n",
       "    </tr>\n",
       "    <tr>\n",
       "      <th>11</th>\n",
       "      <td>Gradient Boosting</td>\n",
       "      <td>optimisation du modèle</td>\n",
       "      <td>6.247732e+06</td>\n",
       "      <td>5.027844e+06</td>\n",
       "      <td>0.681893</td>\n",
       "      <td>0.915029</td>\n",
       "    </tr>\n",
       "  </tbody>\n",
       "</table>\n",
       "</div>"
      ],
      "text/plain": [
       "               Modèle                                       Cas  \\\n",
       "0     Dummy Regressor                     Premières prédictions   \n",
       "1             RidgeCV                     Premières prédictions   \n",
       "2                 RFR                     Premières prédictions   \n",
       "3   Gradient Boosting                     Premières prédictions   \n",
       "4             RidgeCV       Passage au log de la variable cible   \n",
       "5                 RFR       Passage au log de la variable cible   \n",
       "6   Gradient Boosting       Passage au log de la variable cible   \n",
       "7             RidgeCV  passage au log des features asymétriques   \n",
       "8                 RFR  passage au log des features asymétriques   \n",
       "9   Gradient Boosting  passage au log des features asymétriques   \n",
       "10  Gradient Boosting                              RobustScaler   \n",
       "11  Gradient Boosting                    optimisation du modèle   \n",
       "\n",
       "    Score_RMSE_test  Score_RMSE_train  Score_r2_test  Score_r2_train  \n",
       "0      1.111780e+07      1.724832e+07      -0.007317        0.000000  \n",
       "1      8.808769e+06      1.380202e+07       0.367648        0.359687  \n",
       "2      7.220680e+06      9.844333e+06       0.575102        0.674254  \n",
       "3      7.439378e+06      8.866175e+06       0.548974        0.735772  \n",
       "4      1.251702e+00      1.628812e+00       0.234730        0.242211  \n",
       "5      1.072386e+00      1.450636e+00       0.438286        0.398932  \n",
       "6      1.069047e+00      1.409123e+00       0.441779        0.432842  \n",
       "7      7.504394e+06      1.237706e+07       0.541056        0.485078  \n",
       "8      7.421355e+06      1.096717e+07       0.551157        0.595707  \n",
       "9      7.248482e+06      9.863902e+06       0.571824        0.672958  \n",
       "10     6.877503e+06      8.209379e+06       0.614531        0.773469  \n",
       "11     6.247732e+06      5.027844e+06       0.681893        0.915029  "
      ]
     },
     "execution_count": 76,
     "metadata": {},
     "output_type": "execute_result"
    }
   ],
   "source": [
    "results"
   ]
  },
  {
   "cell_type": "markdown",
   "id": "f4dbc97a",
   "metadata": {},
   "source": [
    "## Verification de la performance du modèle avec un KFold cross-validation"
   ]
  },
  {
   "cell_type": "code",
   "execution_count": 77,
   "id": "5d090fc0",
   "metadata": {},
   "outputs": [],
   "source": [
    "df_6eme_essai = df.drop(['TotalGHGEmissions',\n",
    "                         'TotalGHGEmissions_log',\n",
    "                         'ENERGYSTARScore',\n",
    "                         'Electricity_ratio',\n",
    "                         'Steam_ratio', \n",
    "                         'NaturalGas_ratio',\n",
    "                         'NumberofBuildings',\n",
    "                         'NumberofFloors',\n",
    "                         'NumberofBuildings_log',\n",
    "                         'NumberofFloors_log',\n",
    "                         'PropertyGFATotal_log',\n",
    "                        #'PropertyGFATotal',\n",
    "                         'PropertyGFAParking',\n",
    "                         'PropertyGFAParking_log',\n",
    "                          #'PropertyGFABuilding(s)',\n",
    "                         'PropertyGFABuilding(s)_log',\n",
    "                         'SiteEnergyUseWN(kBtu)_log',\n",
    "                         \n",
    "                        ] \n",
    "                        #+ columns_PrimaryPropertyType \n",
    "                        #+ columns_PropertyUse_ratio \n",
    "                        + columns_BuildingType\n",
    "                        + columns_Neighborhood\n",
    "                        , axis=1)"
   ]
  },
  {
   "cell_type": "code",
   "execution_count": 78,
   "id": "b97a6d73",
   "metadata": {},
   "outputs": [],
   "source": [
    "X6= df_6eme_essai.drop(['SiteEnergyUseWN(kBtu)'], axis=1)\n",
    "y6= df_6eme_essai['SiteEnergyUseWN(kBtu)']"
   ]
  },
  {
   "cell_type": "code",
   "execution_count": 79,
   "id": "91f9b0e3",
   "metadata": {},
   "outputs": [],
   "source": [
    "#On standardise les données \n",
    "robustscaler = RobustScaler()\n",
    "robustscaler.fit(X6)\n",
    "\n",
    "X6_std = pd.DataFrame(data=robustscaler.transform(X6),index=X6.index,columns=X6.columns)\n"
   ]
  },
  {
   "cell_type": "code",
   "execution_count": 80,
   "id": "e19140a1",
   "metadata": {},
   "outputs": [],
   "source": [
    "from sklearn.model_selection import KFold, cross_val_score,cross_val_predict\n",
    "\n",
    "parameters = {'learning_rate': 0.2, 'max_depth': 2, 'max_features': None, 'min_samples_leaf': 1, 'n_estimators': 50}\n",
    "model = GradientBoostingRegressor(random_state=123, **parameters)\n",
    "\n",
    "scores = cross_val_score(model, X6_std, y6, \n",
    "                         scoring='r2',\n",
    "                         cv=KFold(10), n_jobs=-1)"
   ]
  },
  {
   "cell_type": "code",
   "execution_count": 81,
   "id": "06c4b10c",
   "metadata": {},
   "outputs": [
    {
     "data": {
      "text/plain": [
       "0.4868287052490346"
      ]
     },
     "execution_count": 81,
     "metadata": {},
     "output_type": "execute_result"
    }
   ],
   "source": [
    "#That is, the average r2 error between the model prediction and the actual observed data\n",
    "np.mean(abs(scores))"
   ]
  },
  {
   "cell_type": "code",
   "execution_count": 82,
   "id": "d7990287",
   "metadata": {},
   "outputs": [
    {
     "data": {
      "text/plain": [
       "<matplotlib.collections.PathCollection at 0x7fdd703e5730>"
      ]
     },
     "execution_count": 82,
     "metadata": {},
     "output_type": "execute_result"
    },
    {
     "data": {
      "image/png": "[encoded data removed]",
      "text/plain": [
       "<Figure size 432x288 with 1 Axes>"
      ]
     },
     "metadata": {
      "needs_background": "light"
     },
     "output_type": "display_data"
    }
   ],
   "source": [
    "# Make cross validated predictions\n",
    "predictions = cross_val_predict(model, X6_std, y6, cv=10)\n",
    "plt.scatter(y6, predictions)"
   ]
  },
  {
   "cell_type": "code",
   "execution_count": 83,
   "id": "dd306417",
   "metadata": {},
   "outputs": [
    {
     "name": "stdout",
     "output_type": "stream",
     "text": [
      "Cross-Predicted Accuracy: 0.4670230142880195\n"
     ]
    }
   ],
   "source": [
    "accuracy = r2_score(y6, predictions)\n",
    "print('Cross-Predicted Accuracy:', accuracy)"
   ]
  },
  {
   "cell_type": "markdown",
   "id": "48be397a",
   "metadata": {},
   "source": [
    "## Analyse de l’influence de l’EnergyStarScore sur le modèle choisi"
   ]
  },
  {
   "cell_type": "markdown",
   "id": "6cfd80a4",
   "metadata": {},
   "source": [
    "Le modèle choisi est le modèle sans passage au log pour aucunes variables et **l'algorithme Gradient Boosting Regressor**"
   ]
  },
  {
   "cell_type": "markdown",
   "id": "3dfd5c9f",
   "metadata": {},
   "source": [
    "On va entraîner le modèle final choisi avec le nouveau dataset,\n",
    "une fois avec la feature EnergyStarScore,\n",
    "une fois sans cette feature \n",
    "et comparer les scores et la feature importance, afin de démontrer l’apport réel de cette feature\n"
   ]
  },
  {
   "cell_type": "markdown",
   "id": "4c12fc10",
   "metadata": {},
   "source": [
    "### On ne garde que le dataframe avec des lignes où l'Energie Star Score est présent"
   ]
  },
  {
   "cell_type": "code",
   "execution_count": 84,
   "id": "f7a42ed9",
   "metadata": {},
   "outputs": [],
   "source": [
    "#On supprime les lignes où il y a une valeur manquante (Energy Star Score)\n",
    "df_dropna_ess = df.dropna(axis =0)"
   ]
  },
  {
   "cell_type": "markdown",
   "id": "346f168d",
   "metadata": {},
   "source": [
    "### Entrainement du modèle finale sans l'Energie Star Score"
   ]
  },
  {
   "cell_type": "code",
   "execution_count": 85,
   "id": "0bbda387",
   "metadata": {},
   "outputs": [],
   "source": [
    "df_sans_ess = df_dropna_ess.drop(['TotalGHGEmissions',\n",
    "                         'TotalGHGEmissions_log',\n",
    "                         'ENERGYSTARScore',\n",
    "                         'Electricity_ratio',\n",
    "                         'Steam_ratio', \n",
    "                         'NaturalGas_ratio',\n",
    "                         'NumberofBuildings',\n",
    "                         'NumberofFloors',\n",
    "                         'NumberofBuildings_log',\n",
    "                         'NumberofFloors_log',\n",
    "                         'PropertyGFATotal_log',\n",
    "                         'PropertyGFAParking',\n",
    "                         'PropertyGFAParking_log',\n",
    "                         'PropertyGFABuilding(s)_log',\n",
    "                         'SiteEnergyUseWN(kBtu)_log'\n",
    "                         \n",
    "                        ] \n",
    "                        + columns_BuildingType\n",
    "                        + columns_Neighborhood\n",
    "                        , axis=1)"
   ]
  },
  {
   "cell_type": "code",
   "execution_count": 86,
   "id": "7d0eeb0b",
   "metadata": {},
   "outputs": [],
   "source": [
    "#Nous allons séparer les données en un ensemble de données X \n",
    "#et une variable cible y que nous voulons prédire.\n",
    "X_sans_ess = df_sans_ess.drop(['SiteEnergyUseWN(kBtu)'], axis=1)\n",
    "y_sans_ess = df_sans_ess['SiteEnergyUseWN(kBtu)']"
   ]
  },
  {
   "cell_type": "code",
   "execution_count": 87,
   "id": "53d5cc6d",
   "metadata": {},
   "outputs": [],
   "source": [
    "# On separe les données d'entrainement et de test\n",
    "X_train, X_test, y_train, y_test = model_selection.train_test_split(X_sans_ess, y_sans_ess, test_size=0.3, random_state = 123) # 30% des données dans le jeu de test\n",
    "\n",
    "#On standardise les données \n",
    "robustscaler = RobustScaler()\n",
    "robustscaler.fit(X_train)\n",
    "\n",
    "X_train_std = pd.DataFrame(data=robustscaler.transform(X_train),index=X_train.index,columns=X_train.columns)\n",
    "X_test_std = pd.DataFrame(data=robustscaler.transform(X_test),index=X_test.index,columns=X_test.columns)"
   ]
  },
  {
   "cell_type": "markdown",
   "id": "12c08b2d",
   "metadata": {},
   "source": [
    "### Gradient Boosting Regressor sans L'Energy Star Score"
   ]
  },
  {
   "cell_type": "code",
   "execution_count": 88,
   "id": "8b500904",
   "metadata": {},
   "outputs": [
    {
     "data": {
      "text/plain": [
       "GridSearchCV(cv=10, estimator=GradientBoostingRegressor(random_state=123),\n",
       "             n_jobs=-1,\n",
       "             param_grid={'learning_rate': [0.01, 0.05, 0.1, 0.5, 1, 0.5],\n",
       "                         'max_depth': [3, 4, 5],\n",
       "                         'max_features': ['log2', 'sqrt'],\n",
       "                         'min_samples_leaf': [2, 4, 5, 6, 7],\n",
       "                         'n_estimators': [5, 10, 15, 20, 100, 500, 700, 1000],\n",
       "                         'subsample': [0.6, 0.7, 0.8]},\n",
       "             scoring='r2')"
      ]
     },
     "execution_count": 88,
     "metadata": {},
     "output_type": "execute_result"
    }
   ],
   "source": [
    "# Fixer les valeurs des hyperparamètres à tester\n",
    "parameters = {\"max_features\":[\"log2\",\"sqrt\"],\n",
    "              'learning_rate': [0.01,0.05,0.1,0.5,1,0.5], # eta value\n",
    "              'max_depth': [3,4,5],\n",
    "              'min_samples_leaf': [2,4,5,6, 7],\n",
    "              'subsample': [0.6,0.7,0.8],\n",
    "              'n_estimators': [5,10,15,20,100,500,700,1000], #number of trees, change it to 1000 for better results\n",
    "}\n",
    "\n",
    "\n",
    "# Créer un regresseur XGBoost avec recherche d'hyperparamètre par validation croisée\n",
    "gbr_grid = model_selection.GridSearchCV(GradientBoostingRegressor(random_state = 123),\n",
    "                                        param_grid = parameters,\n",
    "                                        scoring = 'r2',\n",
    "                                        cv = 10,\n",
    "                                        n_jobs = -1)\n",
    "\n",
    "# Optimiser ce regresseur sur le jeu d'entraînement\n",
    "gbr_grid.fit(X_train_std, y_train)"
   ]
  },
  {
   "cell_type": "code",
   "execution_count": 89,
   "id": "6a502cf5",
   "metadata": {},
   "outputs": [
    {
     "name": "stdout",
     "output_type": "stream",
     "text": [
      "les meilleurs hyperparamètres pour le XGB sont :{'learning_rate': 0.1, 'max_depth': 5, 'max_features': 'log2', 'min_samples_leaf': 2, 'n_estimators': 20, 'subsample': 0.7}\n",
      "score train : 0.8059931908570109\n",
      "score test : 0.6596099787559957\n",
      "rmse train : 8228819.624398584\n",
      "rmse test : 6813904.15240717\n"
     ]
    }
   ],
   "source": [
    "# Afficher le(s) hyperparamètre(s) optimaux\n",
    "print(\"les meilleurs hyperparamètres pour le XGB sont :{}\".format(gbr_grid.best_params_))\n",
    "\n",
    "# Scores R2\n",
    "print('score train :', gbr_grid.score(X_train_std, y_train))\n",
    "print('score test :', gbr_grid.score(X_test_std, y_test))\n",
    "\n",
    "# Scores RMSE\n",
    "print('rmse train :', np.sqrt(mean_squared_error(gbr_grid.predict(X_train_std), y_train)))\n",
    "print('rmse test :', np.sqrt(mean_squared_error(gbr_grid.predict(X_test_std), y_test)))"
   ]
  },
  {
   "cell_type": "code",
   "execution_count": 90,
   "id": "3084c272",
   "metadata": {
    "scrolled": false
   },
   "outputs": [],
   "source": [
    "# On ajoute les scores au dataframe results\n",
    "results = add_results(gbr_grid, 'Gradient Boosting sans ESS', \"Influence de L'Energie Star Score\", results)"
   ]
  },
  {
   "cell_type": "code",
   "execution_count": 91,
   "id": "5e695ce7",
   "metadata": {},
   "outputs": [
    {
     "data": {
      "image/png": "[encoded data removed]",
      "text/plain": [
       "<Figure size 576x576 with 1 Axes>"
      ]
     },
     "metadata": {
      "needs_background": "light"
     },
     "output_type": "display_data"
    }
   ],
   "source": [
    "#On affiche les variables les plus importantes dans le modele \n",
    "\n",
    "coefficients = abs(gbr_grid.best_estimator_.feature_importances_)\n",
    "liste_coefs_gbr = pd.concat((pd.DataFrame(X_train.columns, columns = ['Variable']), \n",
    "                      pd.DataFrame(coefficients, columns = ['Coefficient'])), axis = 1).sort_values(by='Coefficient', ascending = False)\n",
    "\n",
    "\n",
    "plt.figure(figsize=(8,8))\n",
    "plt.title('Gradient Boosting Regressor sans ESS - Importance des 20 premières Features')\n",
    "sns.barplot(y = liste_coefs_gbr['Variable'].head(20),\n",
    "            x = liste_coefs_gbr['Coefficient'].head(20))\n",
    "plt.show()"
   ]
  },
  {
   "cell_type": "markdown",
   "id": "f83fe1eb",
   "metadata": {},
   "source": [
    "### Entrainement du modèle finale avec l'Energie Star Score"
   ]
  },
  {
   "cell_type": "code",
   "execution_count": 92,
   "id": "b8788c49",
   "metadata": {},
   "outputs": [],
   "source": [
    "df_ess = df_dropna_ess.drop(['TotalGHGEmissions',\n",
    "                         'TotalGHGEmissions_log',\n",
    "                         'Electricity_ratio',\n",
    "                         'Steam_ratio', \n",
    "                         'NaturalGas_ratio',\n",
    "                         'NumberofBuildings',\n",
    "                         'NumberofFloors',\n",
    "                         'NumberofBuildings_log',\n",
    "                         'NumberofFloors_log',\n",
    "                         'PropertyGFATotal_log',\n",
    "                         'PropertyGFAParking',\n",
    "                         'PropertyGFAParking_log',\n",
    "                         'PropertyGFABuilding(s)_log',\n",
    "                         'SiteEnergyUseWN(kBtu)_log',\n",
    "                         \n",
    "                        ] \n",
    "                        + columns_BuildingType\n",
    "                        + columns_Neighborhood\n",
    "                        , axis=1)"
   ]
  },
  {
   "cell_type": "code",
   "execution_count": 93,
   "id": "511d2563",
   "metadata": {},
   "outputs": [],
   "source": [
    "#Nous allons séparer les données en un ensemble de données X \n",
    "#et une variable cible y que nous voulons prédire\n",
    "\n",
    "X_ess = df_ess.drop(['SiteEnergyUseWN(kBtu)'], axis=1)\n",
    "y_ess = df_ess['SiteEnergyUseWN(kBtu)']"
   ]
  },
  {
   "cell_type": "code",
   "execution_count": 94,
   "id": "3b6a17da",
   "metadata": {},
   "outputs": [],
   "source": [
    "# On separe les données d'entrainement et de test\n",
    "X_train, X_test, y_train, y_test = model_selection.train_test_split(X_ess, y_ess, test_size=0.3, random_state = 123) # 30% des données dans le jeu de test\n",
    "\n",
    "#On standardise les données\n",
    "\n",
    "robustscaler = RobustScaler()\n",
    "robustscaler.fit(X_train)\n",
    "\n",
    "X_train_std = pd.DataFrame(data=robustscaler.transform(X_train),index=X_train.index,columns=X_train.columns)\n",
    "X_test_std = pd.DataFrame(data=robustscaler.transform(X_test),index=X_test.index,columns=X_test.columns)"
   ]
  },
  {
   "cell_type": "markdown",
   "id": "ccf48fe9",
   "metadata": {},
   "source": [
    "### Gradient Boosting Regressor avec L'Energy Star Score"
   ]
  },
  {
   "cell_type": "code",
   "execution_count": 95,
   "id": "5ecd6ceb",
   "metadata": {},
   "outputs": [
    {
     "data": {
      "text/plain": [
       "GridSearchCV(cv=10, estimator=GradientBoostingRegressor(random_state=123),\n",
       "             n_jobs=-1,\n",
       "             param_grid={'learning_rate': [0.01, 0.05, 0.1, 0.5, 1, 0.5],\n",
       "                         'max_depth': [3, 4, 5],\n",
       "                         'max_features': ['log2', 'sqrt'],\n",
       "                         'min_samples_leaf': [2, 4, 5, 6, 10],\n",
       "                         'n_estimators': [5, 10, 15, 20, 100, 500, 700, 1000],\n",
       "                         'subsample': [0.6, 0.7, 0.8]},\n",
       "             scoring='r2')"
      ]
     },
     "execution_count": 95,
     "metadata": {},
     "output_type": "execute_result"
    }
   ],
   "source": [
    "# Fixer les valeurs des hyperparamètres à tester\n",
    "parameters = {\"max_features\":[\"log2\",\"sqrt\"],\n",
    "              'learning_rate': [0.01,0.05,0.1,0.5,1,0.5], # eta value\n",
    "              'max_depth': [3,4,5],\n",
    "              'min_samples_leaf': [2,4,5,6,10],\n",
    "              'subsample': [0.6,0.7,0.8],\n",
    "              'n_estimators': [5,10,15,20,100,500,700,1000], #number of trees, change it to 1000 for better results\n",
    "}\n",
    "\n",
    "\n",
    "# Créer un regresseur XGBoost avec recherche d'hyperparamètre par validation croisée\n",
    "gbr_grid = model_selection.GridSearchCV(GradientBoostingRegressor(random_state=123),\n",
    "                                        param_grid = parameters,\n",
    "                                        scoring = 'r2',\n",
    "                                        cv = 10,\n",
    "                                        n_jobs = -1)\n",
    "\n",
    "# Optimiser ce regresseur sur le jeu d'entraînement\n",
    "gbr_grid.fit(X_train_std, y_train)"
   ]
  },
  {
   "cell_type": "code",
   "execution_count": 96,
   "id": "b6ab3ce9",
   "metadata": {},
   "outputs": [
    {
     "name": "stdout",
     "output_type": "stream",
     "text": [
      "les meilleurs hyperparamètres pour le XGB sont :{'learning_rate': 0.1, 'max_depth': 5, 'max_features': 'sqrt', 'min_samples_leaf': 2, 'n_estimators': 1000, 'subsample': 0.8}\n",
      "score train : 0.9999987639328072\n",
      "score test : 0.7376512387021411\n",
      "rmse train : 20770.650407308607\n",
      "rmse test : 5982009.787752524\n"
     ]
    }
   ],
   "source": [
    "# Afficher le(s) hyperparamètre(s) optimaux\n",
    "print(\"les meilleurs hyperparamètres pour le XGB sont :{}\".format(gbr_grid.best_params_))\n",
    "\n",
    "# Scores R2\n",
    "print('score train :', gbr_grid.score(X_train_std, y_train))\n",
    "print('score test :', gbr_grid.score(X_test_std, y_test))\n",
    "\n",
    "# Scores RMSE\n",
    "print('rmse train :', np.sqrt(mean_squared_error(gbr_grid.predict(X_train_std), y_train)))\n",
    "print('rmse test :', np.sqrt(mean_squared_error(gbr_grid.predict(X_test_std), y_test)))"
   ]
  },
  {
   "cell_type": "code",
   "execution_count": 97,
   "id": "d9adcd02",
   "metadata": {},
   "outputs": [],
   "source": [
    "# On ajoute les scores au dataframe results\n",
    "results = add_results(gbr_grid, 'Gradient Boosting avec ESS', \"Influence de L'Energie Star Score\", results)"
   ]
  },
  {
   "cell_type": "code",
   "execution_count": 98,
   "id": "f75a87bd",
   "metadata": {},
   "outputs": [
    {
     "data": {
      "image/png": "[encoded data removed]",
      "text/plain": [
       "<Figure size 576x576 with 1 Axes>"
      ]
     },
     "metadata": {
      "needs_background": "light"
     },
     "output_type": "display_data"
    }
   ],
   "source": [
    "#On affiche les variables les plus importantes dans le modele \n",
    "\n",
    "coefficients = abs(gbr_grid.best_estimator_.feature_importances_)\n",
    "liste_coefs_gbr = pd.concat((pd.DataFrame(X_train.columns, columns = ['Variable']), \n",
    "                      pd.DataFrame(coefficients, columns = ['Coefficient'])), axis = 1).sort_values(by='Coefficient', ascending = False)\n",
    "\n",
    "\n",
    "plt.figure(figsize=(8,8))\n",
    "plt.title('Gradient Boosting Regressor avec ESS - Importance des 20 premières Features')\n",
    "sns.barplot(y = liste_coefs_gbr['Variable'].head(20),\n",
    "            x = liste_coefs_gbr['Coefficient'].head(20))\n",
    "plt.show()"
   ]
  },
  {
   "cell_type": "markdown",
   "id": "e8dd401d",
   "metadata": {},
   "source": [
    "### Resultats finaux "
   ]
  },
  {
   "cell_type": "code",
   "execution_count": 99,
   "id": "fb04624b",
   "metadata": {},
   "outputs": [
    {
     "data": {
      "text/html": [
       "<div>\n",
       "<style scoped>\n",
       "    .dataframe tbody tr th:only-of-type {\n",
       "        vertical-align: middle;\n",
       "    }\n",
       "\n",
       "    .dataframe tbody tr th {\n",
       "        vertical-align: top;\n",
       "    }\n",
       "\n",
       "    .dataframe thead th {\n",
       "        text-align: right;\n",
       "    }\n",
       "</style>\n",
       "<table border=\"1\" class=\"dataframe\">\n",
       "  <thead>\n",
       "    <tr style=\"text-align: right;\">\n",
       "      <th></th>\n",
       "      <th>Modèle</th>\n",
       "      <th>Cas</th>\n",
       "      <th>Score_RMSE_test</th>\n",
       "      <th>Score_RMSE_train</th>\n",
       "      <th>Score_r2_test</th>\n",
       "      <th>Score_r2_train</th>\n",
       "    </tr>\n",
       "  </thead>\n",
       "  <tbody>\n",
       "    <tr>\n",
       "      <th>0</th>\n",
       "      <td>Dummy Regressor</td>\n",
       "      <td>Premières prédictions</td>\n",
       "      <td>1.111780e+07</td>\n",
       "      <td>1.724832e+07</td>\n",
       "      <td>-0.007317</td>\n",
       "      <td>0.000000</td>\n",
       "    </tr>\n",
       "    <tr>\n",
       "      <th>1</th>\n",
       "      <td>RidgeCV</td>\n",
       "      <td>Premières prédictions</td>\n",
       "      <td>8.808769e+06</td>\n",
       "      <td>1.380202e+07</td>\n",
       "      <td>0.367648</td>\n",
       "      <td>0.359687</td>\n",
       "    </tr>\n",
       "    <tr>\n",
       "      <th>2</th>\n",
       "      <td>RFR</td>\n",
       "      <td>Premières prédictions</td>\n",
       "      <td>7.220680e+06</td>\n",
       "      <td>9.844333e+06</td>\n",
       "      <td>0.575102</td>\n",
       "      <td>0.674254</td>\n",
       "    </tr>\n",
       "    <tr>\n",
       "      <th>3</th>\n",
       "      <td>Gradient Boosting</td>\n",
       "      <td>Premières prédictions</td>\n",
       "      <td>7.439378e+06</td>\n",
       "      <td>8.866175e+06</td>\n",
       "      <td>0.548974</td>\n",
       "      <td>0.735772</td>\n",
       "    </tr>\n",
       "    <tr>\n",
       "      <th>4</th>\n",
       "      <td>RidgeCV</td>\n",
       "      <td>Passage au log de la variable cible</td>\n",
       "      <td>1.251702e+00</td>\n",
       "      <td>1.628812e+00</td>\n",
       "      <td>0.234730</td>\n",
       "      <td>0.242211</td>\n",
       "    </tr>\n",
       "    <tr>\n",
       "      <th>5</th>\n",
       "      <td>RFR</td>\n",
       "      <td>Passage au log de la variable cible</td>\n",
       "      <td>1.072386e+00</td>\n",
       "      <td>1.450636e+00</td>\n",
       "      <td>0.438286</td>\n",
       "      <td>0.398932</td>\n",
       "    </tr>\n",
       "    <tr>\n",
       "      <th>6</th>\n",
       "      <td>Gradient Boosting</td>\n",
       "      <td>Passage au log de la variable cible</td>\n",
       "      <td>1.069047e+00</td>\n",
       "      <td>1.409123e+00</td>\n",
       "      <td>0.441779</td>\n",
       "      <td>0.432842</td>\n",
       "    </tr>\n",
       "    <tr>\n",
       "      <th>7</th>\n",
       "      <td>RidgeCV</td>\n",
       "      <td>passage au log des features asymétriques</td>\n",
       "      <td>7.504394e+06</td>\n",
       "      <td>1.237706e+07</td>\n",
       "      <td>0.541056</td>\n",
       "      <td>0.485078</td>\n",
       "    </tr>\n",
       "    <tr>\n",
       "      <th>8</th>\n",
       "      <td>RFR</td>\n",
       "      <td>passage au log des features asymétriques</td>\n",
       "      <td>7.421355e+06</td>\n",
       "      <td>1.096717e+07</td>\n",
       "      <td>0.551157</td>\n",
       "      <td>0.595707</td>\n",
       "    </tr>\n",
       "    <tr>\n",
       "      <th>9</th>\n",
       "      <td>Gradient Boosting</td>\n",
       "      <td>passage au log des features asymétriques</td>\n",
       "      <td>7.248482e+06</td>\n",
       "      <td>9.863902e+06</td>\n",
       "      <td>0.571824</td>\n",
       "      <td>0.672958</td>\n",
       "    </tr>\n",
       "    <tr>\n",
       "      <th>10</th>\n",
       "      <td>Gradient Boosting</td>\n",
       "      <td>RobustScaler</td>\n",
       "      <td>6.877503e+06</td>\n",
       "      <td>8.209379e+06</td>\n",
       "      <td>0.614531</td>\n",
       "      <td>0.773469</td>\n",
       "    </tr>\n",
       "    <tr>\n",
       "      <th>11</th>\n",
       "      <td>Gradient Boosting</td>\n",
       "      <td>optimisation du modèle</td>\n",
       "      <td>6.247732e+06</td>\n",
       "      <td>5.027844e+06</td>\n",
       "      <td>0.681893</td>\n",
       "      <td>0.915029</td>\n",
       "    </tr>\n",
       "    <tr>\n",
       "      <th>12</th>\n",
       "      <td>Gradient Boosting sans ESS</td>\n",
       "      <td>Influence de L'Energie Star Score</td>\n",
       "      <td>6.813904e+06</td>\n",
       "      <td>8.228820e+06</td>\n",
       "      <td>0.659610</td>\n",
       "      <td>0.805993</td>\n",
       "    </tr>\n",
       "    <tr>\n",
       "      <th>13</th>\n",
       "      <td>Gradient Boosting avec ESS</td>\n",
       "      <td>Influence de L'Energie Star Score</td>\n",
       "      <td>5.982010e+06</td>\n",
       "      <td>2.077065e+04</td>\n",
       "      <td>0.737651</td>\n",
       "      <td>0.999999</td>\n",
       "    </tr>\n",
       "  </tbody>\n",
       "</table>\n",
       "</div>"
      ],
      "text/plain": [
       "                        Modèle                                       Cas  \\\n",
       "0              Dummy Regressor                     Premières prédictions   \n",
       "1                      RidgeCV                     Premières prédictions   \n",
       "2                          RFR                     Premières prédictions   \n",
       "3            Gradient Boosting                     Premières prédictions   \n",
       "4                      RidgeCV       Passage au log de la variable cible   \n",
       "5                          RFR       Passage au log de la variable cible   \n",
       "6            Gradient Boosting       Passage au log de la variable cible   \n",
       "7                      RidgeCV  passage au log des features asymétriques   \n",
       "8                          RFR  passage au log des features asymétriques   \n",
       "9            Gradient Boosting  passage au log des features asymétriques   \n",
       "10           Gradient Boosting                              RobustScaler   \n",
       "11           Gradient Boosting                    optimisation du modèle   \n",
       "12  Gradient Boosting sans ESS         Influence de L'Energie Star Score   \n",
       "13  Gradient Boosting avec ESS         Influence de L'Energie Star Score   \n",
       "\n",
       "    Score_RMSE_test  Score_RMSE_train  Score_r2_test  Score_r2_train  \n",
       "0      1.111780e+07      1.724832e+07      -0.007317        0.000000  \n",
       "1      8.808769e+06      1.380202e+07       0.367648        0.359687  \n",
       "2      7.220680e+06      9.844333e+06       0.575102        0.674254  \n",
       "3      7.439378e+06      8.866175e+06       0.548974        0.735772  \n",
       "4      1.251702e+00      1.628812e+00       0.234730        0.242211  \n",
       "5      1.072386e+00      1.450636e+00       0.438286        0.398932  \n",
       "6      1.069047e+00      1.409123e+00       0.441779        0.432842  \n",
       "7      7.504394e+06      1.237706e+07       0.541056        0.485078  \n",
       "8      7.421355e+06      1.096717e+07       0.551157        0.595707  \n",
       "9      7.248482e+06      9.863902e+06       0.571824        0.672958  \n",
       "10     6.877503e+06      8.209379e+06       0.614531        0.773469  \n",
       "11     6.247732e+06      5.027844e+06       0.681893        0.915029  \n",
       "12     6.813904e+06      8.228820e+06       0.659610        0.805993  \n",
       "13     5.982010e+06      2.077065e+04       0.737651        0.999999  "
      ]
     },
     "execution_count": 99,
     "metadata": {},
     "output_type": "execute_result"
    }
   ],
   "source": [
    "results"
   ]
  },
  {
   "cell_type": "markdown",
   "id": "4e05719c",
   "metadata": {},
   "source": [
    "### Conclusion"
   ]
  },
  {
   "cell_type": "markdown",
   "id": "773134f1",
   "metadata": {},
   "source": [
    "L'energie Star Score a bien une influence sur les scores de la prediction de la variable SiteEnergyUseWN, quand on le rajoute dans le modèle les scores s'améliorent.\n",
    "\n",
    "Il apparait comme la 5ème variable plus importante dans le modèle."
   ]
  }
 ],
 "metadata": {
  "kernelspec": {
   "display_name": "Python 3 (ipykernel)",
   "language": "python",
   "name": "python3"
  },
  "language_info": {
   "codemirror_mode": {
    "name": "ipython",
    "version": 3
   },
   "file_extension": ".py",
   "mimetype": "text/x-python",
   "name": "python",
   "nbconvert_exporter": "python",
   "pygments_lexer": "ipython3",
   "version": "3.9.12"
  }
 },
 "nbformat": 4,
 "nbformat_minor": 5
}
